{
 "cells": [
  {
   "cell_type": "code",
   "execution_count": null,
   "id": "28f306cd",
   "metadata": {},
   "outputs": [],
   "source": [
    "from _kluce import *\n",
    "import requests, datetime\n",
    "import pandas as pd\n",
    "import json, time\n",
    "import urllib.parse\n",
    "from datetime import datetime, timezone"
   ]
  },
  {
   "cell_type": "code",
   "execution_count": null,
   "id": "4628f4fd",
   "metadata": {},
   "outputs": [],
   "source": []
  },
  {
   "cell_type": "code",
   "execution_count": null,
   "id": "d4d9d93b",
   "metadata": {},
   "outputs": [],
   "source": [
    "# Example\n",
    "# https://api.openweathermap.org/data/3.0/onecall?lat=33.44&lon=-94.04&exclude=hourly,daily&appid={API key}\n",
    "\n",
    "BASE_URL = \"https://api.openweathermap.org/data/3.0/\"\n",
    "lon = 17.411345243453983\n",
    "lat = 48.35068075778566\n",
    "#48.35063156292564, 17.41130192989502\n",
    "# Lat and lon from neetatmo home\n",
    "_ADD_URL = \"onecall\"\n",
    "_GEEOTAG = f\"?lat={lat}&lon={lon}\"\n",
    "_GET_API = f\"&appid={weather_API_key}\"\n",
    "_GET_UNITS = \"&units=metric\"\n"
   ]
  },
  {
   "cell_type": "code",
   "execution_count": null,
   "id": "a7eed034",
   "metadata": {},
   "outputs": [],
   "source": [
    "# coding: utf-8\n",
    "urlws = f'http://api.weatherstack.com/current?access_key={weatherstack_API}&query={lon},{lat}'\n",
    "urlws = 'http://api.weatherstack.com/current'\n",
    "params = {\n",
    "  'access_key': weatherstack_API,\n",
    "  'query': f\"{lat},{lon}\"\n",
    "}\n",
    "print(urlws)\n",
    "api_result = requests.get(urlws, params)\n",
    "\n",
    "api_response = api_result.json()\n",
    "\n",
    "print(api_response)\n",
    "\n",
    "print(u'Current temperature in %s is %d℃' % (api_response['location']['name'], api_response['current']['temperature']))"
   ]
  },
  {
   "cell_type": "code",
   "execution_count": null,
   "id": "535fa933",
   "metadata": {},
   "outputs": [],
   "source": [
    "def perform_auth():\n",
    "    token_url = BASE_URL + _ADD_URL + _GEEOTAG + _GET_API + _GET_UNITS\n",
    "    tme = int(time.time())\n",
    "    token_url = token_url + f\"&dt={tme}\"\n",
    "    print (\"Adrresa je: \", token_url)\n",
    "    r = requests.get(token_url)\n",
    "    print (r.text)"
   ]
  },
  {
   "cell_type": "code",
   "execution_count": null,
   "id": "a5a6e118",
   "metadata": {},
   "outputs": [],
   "source": [
    "perform_auth()"
   ]
  },
  {
   "cell_type": "code",
   "execution_count": null,
   "id": "8a2a6a67",
   "metadata": {},
   "outputs": [],
   "source": [
    "def get_weather():\n",
    "    token_url = BASE_URL + _ADD_URL + _GEEOTAG + _GET_API + _GET_UNITS\n",
    "    dt = datetime(2021, 3, 5, 14, 30, 21)\n",
    "    #tme = int(dt.timestamp())\n",
    "    token_url = token_url + \"&exclude=minutely,hourly,daily\"\n",
    "    print (\"Adresa je: \", token_url)\n",
    "    r = requests.get(token_url)\n",
    "    print (r.text)"
   ]
  },
  {
   "cell_type": "code",
   "execution_count": null,
   "id": "1c3c9408",
   "metadata": {},
   "outputs": [],
   "source": [
    "get_weather()"
   ]
  },
  {
   "cell_type": "code",
   "execution_count": null,
   "id": "10975f87",
   "metadata": {},
   "outputs": [],
   "source": [
    "timestamp = 1667729093\n",
    "dt = datetime.fromtimestamp( timestamp )\n",
    "print( dt )"
   ]
  },
  {
   "cell_type": "code",
   "execution_count": null,
   "id": "409c0d8c",
   "metadata": {},
   "outputs": [],
   "source": [
    "def get_accuweather():\n",
    "    lockey = \"297368\"\n",
    "    urlacu = f\"http://dataservice.accuweather.com/currentconditions/v1/{lockey}?\"\n",
    "    urlacu = urlacu + f\"apikey={acuapi}&details=true\"\n",
    "    params = {\n",
    "        'access_key': acuapi,\n",
    "        'query': f\"{lat},{lon}\",\n",
    "        'details': \"true\"\n",
    "    }\n",
    "    #print(urlacu)\n",
    "    api_result = requests.get(urlacu)\n",
    "    rj = api_result.json()\n",
    "    print (api_result.text)\n",
    "    \n",
    "    \n",
    "    dt = datetime.fromtimestamp(rj[0]['EpochTime'])\n",
    "    print(\"JSON parse: \", \"Wheather is \", rj[0]['WeatherText'], \" and temp. is : \", rj[0]['Temperature']['Metric']['Value'], \" C, and time is :\", dt)\n",
    "    \n"
   ]
  },
  {
   "cell_type": "code",
   "execution_count": null,
   "id": "d1ed6031",
   "metadata": {},
   "outputs": [],
   "source": [
    "get_accuweather()"
   ]
  },
  {
   "cell_type": "code",
   "execution_count": null,
   "id": "0d5b0471",
   "metadata": {},
   "outputs": [],
   "source": []
  },
  {
   "cell_type": "code",
   "execution_count": null,
   "id": "3d6dbfe0",
   "metadata": {},
   "outputs": [],
   "source": []
  },
  {
   "cell_type": "code",
   "execution_count": null,
   "id": "1f32a065",
   "metadata": {},
   "outputs": [],
   "source": []
  },
  {
   "cell_type": "code",
   "execution_count": null,
   "id": "4d2d9c49",
   "metadata": {},
   "outputs": [],
   "source": []
  },
  {
   "cell_type": "code",
   "execution_count": null,
   "id": "39d0bf66",
   "metadata": {},
   "outputs": [],
   "source": []
  },
  {
   "cell_type": "code",
   "execution_count": null,
   "id": "609ab259",
   "metadata": {},
   "outputs": [],
   "source": []
  },
  {
   "cell_type": "code",
   "execution_count": null,
   "id": "f90b112b",
   "metadata": {},
   "outputs": [],
   "source": []
  },
  {
   "cell_type": "code",
   "execution_count": null,
   "id": "1a00ad24",
   "metadata": {},
   "outputs": [],
   "source": []
  },
  {
   "cell_type": "code",
   "execution_count": null,
   "id": "5d942571",
   "metadata": {},
   "outputs": [],
   "source": []
  }
 ],
 "metadata": {
  "kernelspec": {
   "display_name": "Python 3 (ipykernel)",
   "language": "python",
   "name": "python3"
  },
  "language_info": {
   "codemirror_mode": {
    "name": "ipython",
    "version": 3
   },
   "file_extension": ".py",
   "mimetype": "text/x-python",
   "name": "python",
   "nbconvert_exporter": "python",
   "pygments_lexer": "ipython3",
   "version": "3.10.7"
  }
 },
 "nbformat": 4,
 "nbformat_minor": 5
}
