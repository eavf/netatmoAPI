{
 "cells": [
  {
   "cell_type": "code",
   "execution_count": 1,
   "id": "3204e8b2",
   "metadata": {},
   "outputs": [],
   "source": [
    "from _kluce import *\n",
    "import requests, datetime"
   ]
  },
  {
   "cell_type": "code",
   "execution_count": 2,
   "id": "5d325941",
   "metadata": {},
   "outputs": [],
   "source": [
    "token_url = \"https://api.netatmo.com/oauth2/token\"\n",
    "method = \"POST\"\n"
   ]
  },
  {
   "cell_type": "markdown",
   "id": "e8cd85e4",
   "metadata": {},
   "source": [
    "POST /oauth2/token HTTP/1.1\n",
    "    Host: api.netatmo.com\n",
    "    Content-Type: application/x-www-form-urlencoded;charset=UTF-8\n",
    "\n",
    "    grant_type=password\n",
    "    client_id=[YOUR_APP_ID]\n",
    "    client_secret=[YOUR_CLIENT_SECRET]\n",
    "    username=[USER_MAIL]\n",
    "    password=[USER_PASSWORD]\n",
    "    scope=[SCOPES_SPACE_SEPARATED]"
   ]
  },
  {
   "cell_type": "code",
   "execution_count": 3,
   "id": "3ac461aa",
   "metadata": {},
   "outputs": [],
   "source": [
    "token_headers = {\n",
    "    \"Host\": \"api.netatmo.com\",\n",
    "    \"Content-Type\": \"application/x-www-form-urlencoded;charset=UTF-8\",\n",
    "}\n",
    "\n",
    "token_data = {\n",
    "    \"grant_type\": \"password\",\n",
    "    \"client_id\": client_id,\n",
    "    \"client_secret\": secret_id,\n",
    "    \"username\": login_net,\n",
    "    \"password\": passw_net,\n",
    "    \"scope\": \"read_thermostat write_thermostat\"\n",
    "}"
   ]
  },
  {
   "cell_type": "code",
   "execution_count": 4,
   "id": "0ed608d3",
   "metadata": {},
   "outputs": [
    {
     "name": "stdout",
     "output_type": "stream",
     "text": [
      "{'access_token': '58aed8644deddbca2c8b4763|d69db65b2e7a77c8e2ec1199ab59d6ab', 'refresh_token': '58aed8644deddbca2c8b4763|2c8eb3e22dce1ce9b96345f6f2254cb9', 'scope': ['read_thermostat', 'write_thermostat'], 'expires_in': 10800, 'expire_in': 10800}\n"
     ]
    }
   ],
   "source": [
    "r = requests.post(token_url, data=token_data, headers = token_headers)\n",
    "print (r.json())\n",
    "valid_request = r.status_code in range(200, 299)\n"
   ]
  },
  {
   "cell_type": "code",
   "execution_count": 7,
   "id": "25904bc8",
   "metadata": {},
   "outputs": [],
   "source": [
    "if valid_request:\n",
    "    token_response_data = r.json()\n",
    "    now = datetime.datetime.now()\n",
    "\n",
    "    access_token = token_response_data['access_token']\n",
    "    expires_in = token_response_data['expires_in']               # seconds\n",
    "    expires = now + datetime.timedelta(seconds=expires_in)\n",
    "\n",
    "    did_expire = expires < now"
   ]
  },
  {
   "cell_type": "code",
   "execution_count": 8,
   "id": "22a9b089",
   "metadata": {},
   "outputs": [
    {
     "name": "stdout",
     "output_type": "stream",
     "text": [
      "{'access_token': '58aed8644deddbca2c8b4763|d69db65b2e7a77c8e2ec1199ab59d6ab', 'refresh_token': '58aed8644deddbca2c8b4763|2c8eb3e22dce1ce9b96345f6f2254cb9', 'scope': ['read_thermostat', 'write_thermostat'], 'expires_in': 10800, 'expire_in': 10800}\n",
      "58aed8644deddbca2c8b4763|d69db65b2e7a77c8e2ec1199ab59d6ab\n",
      "58aed8644deddbca2c8b4763|d69db65b2e7a77c8e2ec1199ab59d6ab\n",
      "False\n",
      "2022-12-04 00:58:26.840401\n"
     ]
    }
   ],
   "source": [
    "print (r.json())\n",
    "print (token_response_data['access_token'])\n",
    "print (access_token)\n",
    "print (did_expire)\n",
    "print (expires)"
   ]
  },
  {
   "cell_type": "code",
   "execution_count": null,
   "id": "b586e47f",
   "metadata": {},
   "outputs": [],
   "source": []
  }
 ],
 "metadata": {
  "kernelspec": {
   "display_name": "Python 3 (ipykernel)",
   "language": "python",
   "name": "python3"
  },
  "language_info": {
   "codemirror_mode": {
    "name": "ipython",
    "version": 3
   },
   "file_extension": ".py",
   "mimetype": "text/x-python",
   "name": "python",
   "nbconvert_exporter": "python",
   "pygments_lexer": "ipython3",
   "version": "3.10.7"
  }
 },
 "nbformat": 4,
 "nbformat_minor": 5
}
