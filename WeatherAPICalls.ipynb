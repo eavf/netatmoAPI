{
 "cells": [
  {
   "cell_type": "code",
   "execution_count": 1,
   "id": "28f306cd",
   "metadata": {},
   "outputs": [],
   "source": [
    "from _kluce import *\n",
    "import requests, datetime\n",
    "import pandas as pd\n",
    "import json, time\n",
    "import urllib.parse\n",
    "from datetime import datetime, timezone"
   ]
  },
  {
   "cell_type": "code",
   "execution_count": 8,
   "id": "d4d9d93b",
   "metadata": {},
   "outputs": [],
   "source": [
    "# Example\n",
    "# https://api.openweathermap.org/data/3.0/onecall?lat=33.44&lon=-94.04&exclude=hourly,daily&appid={API key}\n",
    "\n",
    "BASE_URL = \"https://api.openweathermap.org/data/3.0/\"\n",
    "lon = 17.411345243453983\n",
    "lat = 48.35068075778566\n",
    "#48.35063156292564, 17.41130192989502\n",
    "# Lat and lon from neetatmo home\n",
    "_ADD_URL = \"onecall\"\n",
    "_GEEOTAG = f\"?lat={lat}&lon={lon}\"\n",
    "_GET_API = f\"&appid={weather_API_key}\"\n",
    "_GET_UNITS = \"&units=metric\"\n",
    "\n"
   ]
  },
  {
   "cell_type": "code",
   "execution_count": 9,
   "id": "535fa933",
   "metadata": {},
   "outputs": [],
   "source": [
    "def perform_auth():\n",
    "    token_url = BASE_URL + _ADD_URL + _GEEOTAG + _GET_API + _GET_UNITS\n",
    "    tme = int(time.time())\n",
    "    token_url = token_url + f\"&dt={tme}\"\n",
    "    print (\"Adrresa je: \", token_url)\n",
    "    r = requests.get(token_url)\n",
    "    print (r.text)"
   ]
  },
  {
   "cell_type": "code",
   "execution_count": 10,
   "id": "a5a6e118",
   "metadata": {},
   "outputs": [
    {
     "name": "stdout",
     "output_type": "stream",
     "text": [
      "Adrresa je:  https://api.openweathermap.org/data/3.0/onecall?lat=48.35068075778566&lon=17.411345243453983&appid=93ff8657ac2d8cc5045389f9e34b62a2&units=metric&dt=1667737671\n",
      "{\"lat\":48.3507,\"lon\":17.4113,\"timezone\":\"Europe/Bratislava\",\"timezone_offset\":3600,\"current\":{\"dt\":1667737671,\"sunrise\":1667713408,\"sunset\":1667748269,\"temp\":12.34,\"feels_like\":11.2,\"pressure\":1018,\"humidity\":60,\"dew_point\":4.8,\"uvi\":1.09,\"clouds\":40,\"visibility\":10000,\"wind_speed\":1.97,\"wind_deg\":3,\"wind_gust\":2.3,\"weather\":[{\"id\":802,\"main\":\"Clouds\",\"description\":\"scattered clouds\",\"icon\":\"03d\"}]},\"minutely\":[{\"dt\":1667737680,\"precipitation\":0},{\"dt\":1667737740,\"precipitation\":0},{\"dt\":1667737800,\"precipitation\":0},{\"dt\":1667737860,\"precipitation\":0},{\"dt\":1667737920,\"precipitation\":0},{\"dt\":1667737980,\"precipitation\":0},{\"dt\":1667738040,\"precipitation\":0},{\"dt\":1667738100,\"precipitation\":0},{\"dt\":1667738160,\"precipitation\":0},{\"dt\":1667738220,\"precipitation\":0},{\"dt\":1667738280,\"precipitation\":0},{\"dt\":1667738340,\"precipitation\":0},{\"dt\":1667738400,\"precipitation\":0},{\"dt\":1667738460,\"precipitation\":0},{\"dt\":1667738520,\"precipitation\":0},{\"dt\":1667738580,\"precipitation\":0},{\"dt\":1667738640,\"precipitation\":0},{\"dt\":1667738700,\"precipitation\":0},{\"dt\":1667738760,\"precipitation\":0},{\"dt\":1667738820,\"precipitation\":0},{\"dt\":1667738880,\"precipitation\":0},{\"dt\":1667738940,\"precipitation\":0},{\"dt\":1667739000,\"precipitation\":0},{\"dt\":1667739060,\"precipitation\":0},{\"dt\":1667739120,\"precipitation\":0},{\"dt\":1667739180,\"precipitation\":0},{\"dt\":1667739240,\"precipitation\":0},{\"dt\":1667739300,\"precipitation\":0},{\"dt\":1667739360,\"precipitation\":0},{\"dt\":1667739420,\"precipitation\":0},{\"dt\":1667739480,\"precipitation\":0},{\"dt\":1667739540,\"precipitation\":0},{\"dt\":1667739600,\"precipitation\":0},{\"dt\":1667739660,\"precipitation\":0},{\"dt\":1667739720,\"precipitation\":0},{\"dt\":1667739780,\"precipitation\":0},{\"dt\":1667739840,\"precipitation\":0},{\"dt\":1667739900,\"precipitation\":0},{\"dt\":1667739960,\"precipitation\":0},{\"dt\":1667740020,\"precipitation\":0},{\"dt\":1667740080,\"precipitation\":0},{\"dt\":1667740140,\"precipitation\":0},{\"dt\":1667740200,\"precipitation\":0},{\"dt\":1667740260,\"precipitation\":0},{\"dt\":1667740320,\"precipitation\":0},{\"dt\":1667740380,\"precipitation\":0},{\"dt\":1667740440,\"precipitation\":0},{\"dt\":1667740500,\"precipitation\":0},{\"dt\":1667740560,\"precipitation\":0},{\"dt\":1667740620,\"precipitation\":0},{\"dt\":1667740680,\"precipitation\":0},{\"dt\":1667740740,\"precipitation\":0},{\"dt\":1667740800,\"precipitation\":0},{\"dt\":1667740860,\"precipitation\":0},{\"dt\":1667740920,\"precipitation\":0},{\"dt\":1667740980,\"precipitation\":0},{\"dt\":1667741040,\"precipitation\":0},{\"dt\":1667741100,\"precipitation\":0},{\"dt\":1667741160,\"precipitation\":0},{\"dt\":1667741220,\"precipitation\":0},{\"dt\":1667741280,\"precipitation\":0}],\"hourly\":[{\"dt\":1667736000,\"temp\":12.34,\"feels_like\":11.2,\"pressure\":1018,\"humidity\":60,\"dew_point\":4.8,\"uvi\":1.09,\"clouds\":40,\"visibility\":10000,\"wind_speed\":1.97,\"wind_deg\":3,\"wind_gust\":2.3,\"weather\":[{\"id\":802,\"main\":\"Clouds\",\"description\":\"scattered clouds\",\"icon\":\"03d\"}],\"pop\":0},{\"dt\":1667739600,\"temp\":12.15,\"feels_like\":11.01,\"pressure\":1018,\"humidity\":61,\"dew_point\":4.86,\"uvi\":0.79,\"clouds\":52,\"visibility\":10000,\"wind_speed\":1.41,\"wind_deg\":23,\"wind_gust\":1.73,\"weather\":[{\"id\":803,\"main\":\"Clouds\",\"description\":\"broken clouds\",\"icon\":\"04d\"}],\"pop\":0},{\"dt\":1667743200,\"temp\":11.89,\"feels_like\":10.75,\"pressure\":1018,\"humidity\":62,\"dew_point\":4.85,\"uvi\":0.37,\"clouds\":63,\"visibility\":10000,\"wind_speed\":0.82,\"wind_deg\":68,\"wind_gust\":1.3,\"weather\":[{\"id\":803,\"main\":\"Clouds\",\"description\":\"broken clouds\",\"icon\":\"04d\"}],\"pop\":0},{\"dt\":1667746800,\"temp\":10.88,\"feels_like\":9.75,\"pressure\":1018,\"humidity\":66,\"dew_point\":4.79,\"uvi\":0,\"clouds\":65,\"visibility\":10000,\"wind_speed\":1,\"wind_deg\":142,\"wind_gust\":1.1,\"weather\":[{\"id\":803,\"main\":\"Clouds\",\"description\":\"broken clouds\",\"icon\":\"04d\"}],\"pop\":0},{\"dt\":1667750400,\"temp\":9.41,\"feels_like\":9.15,\"pressure\":1018,\"humidity\":73,\"dew_point\":4.82,\"uvi\":0,\"clouds\":63,\"visibility\":10000,\"wind_speed\":1.34,\"wind_deg\":139,\"wind_gust\":1.34,\"weather\":[{\"id\":803,\"main\":\"Clouds\",\"description\":\"broken clouds\",\"icon\":\"04n\"}],\"pop\":0},{\"dt\":1667754000,\"temp\":8.05,\"feels_like\":6.79,\"pressure\":1018,\"humidity\":80,\"dew_point\":4.72,\"uvi\":0,\"clouds\":58,\"visibility\":10000,\"wind_speed\":2.15,\"wind_deg\":141,\"wind_gust\":2.27,\"weather\":[{\"id\":803,\"main\":\"Clouds\",\"description\":\"broken clouds\",\"icon\":\"04n\"}],\"pop\":0},{\"dt\":1667757600,\"temp\":7.54,\"feels_like\":6.31,\"pressure\":1018,\"humidity\":83,\"dew_point\":4.82,\"uvi\":0,\"clouds\":50,\"visibility\":10000,\"wind_speed\":2.02,\"wind_deg\":145,\"wind_gust\":2.06,\"weather\":[{\"id\":802,\"main\":\"Clouds\",\"description\":\"scattered clouds\",\"icon\":\"03n\"}],\"pop\":0},{\"dt\":1667761200,\"temp\":7.08,\"feels_like\":5.77,\"pressure\":1018,\"humidity\":86,\"dew_point\":4.85,\"uvi\":0,\"clouds\":8,\"visibility\":10000,\"wind_speed\":2.02,\"wind_deg\":145,\"wind_gust\":2.14,\"weather\":[{\"id\":800,\"main\":\"Clear\",\"description\":\"clear sky\",\"icon\":\"01n\"}],\"pop\":0},{\"dt\":1667764800,\"temp\":6.72,\"feels_like\":5.58,\"pressure\":1019,\"humidity\":88,\"dew_point\":4.77,\"uvi\":0,\"clouds\":9,\"visibility\":10000,\"wind_speed\":1.79,\"wind_deg\":153,\"wind_gust\":1.87,\"weather\":[{\"id\":800,\"main\":\"Clear\",\"description\":\"clear sky\",\"icon\":\"01n\"}],\"pop\":0},{\"dt\":1667768400,\"temp\":6.41,\"feels_like\":4.92,\"pressure\":1019,\"humidity\":89,\"dew_point\":4.69,\"uvi\":0,\"clouds\":9,\"visibility\":10000,\"wind_speed\":2.09,\"wind_deg\":144,\"wind_gust\":2.45,\"weather\":[{\"id\":800,\"main\":\"Clear\",\"description\":\"clear sky\",\"icon\":\"01n\"}],\"pop\":0},{\"dt\":1667772000,\"temp\":6.07,\"feels_like\":4.57,\"pressure\":1019,\"humidity\":91,\"dew_point\":4.57,\"uvi\":0,\"clouds\":9,\"visibility\":10000,\"wind_speed\":2.05,\"wind_deg\":145,\"wind_gust\":2.62,\"weather\":[{\"id\":800,\"main\":\"Clear\",\"description\":\"clear sky\",\"icon\":\"01n\"}],\"pop\":0},{\"dt\":1667775600,\"temp\":5.81,\"feels_like\":4.43,\"pressure\":1019,\"humidity\":91,\"dew_point\":4.39,\"uvi\":0,\"clouds\":9,\"visibility\":10000,\"wind_speed\":1.88,\"wind_deg\":145,\"wind_gust\":2.21,\"weather\":[{\"id\":800,\"main\":\"Clear\",\"description\":\"clear sky\",\"icon\":\"01n\"}],\"pop\":0},{\"dt\":1667779200,\"temp\":5.63,\"feels_like\":4.32,\"pressure\":1019,\"humidity\":91,\"dew_point\":4.18,\"uvi\":0,\"clouds\":13,\"visibility\":10000,\"wind_speed\":1.79,\"wind_deg\":137,\"wind_gust\":1.97,\"weather\":[{\"id\":801,\"main\":\"Clouds\",\"description\":\"few clouds\",\"icon\":\"02n\"}],\"pop\":0},{\"dt\":1667782800,\"temp\":5.56,\"feels_like\":4.42,\"pressure\":1020,\"humidity\":90,\"dew_point\":4,\"uvi\":0,\"clouds\":89,\"visibility\":10000,\"wind_speed\":1.63,\"wind_deg\":141,\"wind_gust\":1.7,\"weather\":[{\"id\":804,\"main\":\"Clouds\",\"description\":\"overcast clouds\",\"icon\":\"04n\"}],\"pop\":0},{\"dt\":1667786400,\"temp\":5.49,\"feels_like\":4.48,\"pressure\":1020,\"humidity\":89,\"dew_point\":3.78,\"uvi\":0,\"clouds\":95,\"visibility\":10000,\"wind_speed\":1.52,\"wind_deg\":146,\"wind_gust\":1.5,\"weather\":[{\"id\":804,\"main\":\"Clouds\",\"description\":\"overcast clouds\",\"icon\":\"04n\"}],\"pop\":0},{\"dt\":1667790000,\"temp\":5.42,\"feels_like\":5.42,\"pressure\":1020,\"humidity\":88,\"dew_point\":3.52,\"uvi\":0,\"clouds\":96,\"visibility\":10000,\"wind_speed\":1.27,\"wind_deg\":163,\"wind_gust\":1.32,\"weather\":[{\"id\":804,\"main\":\"Clouds\",\"description\":\"overcast clouds\",\"icon\":\"04n\"}],\"pop\":0},{\"dt\":1667793600,\"temp\":5.35,\"feels_like\":5.35,\"pressure\":1020,\"humidity\":87,\"dew_point\":3.21,\"uvi\":0,\"clouds\":97,\"visibility\":10000,\"wind_speed\":0.98,\"wind_deg\":205,\"wind_gust\":1.13,\"weather\":[{\"id\":804,\"main\":\"Clouds\",\"description\":\"overcast clouds\",\"icon\":\"04n\"}],\"pop\":0},{\"dt\":1667797200,\"temp\":5.49,\"feels_like\":5.49,\"pressure\":1021,\"humidity\":84,\"dew_point\":2.89,\"uvi\":0,\"clouds\":98,\"visibility\":10000,\"wind_speed\":0.88,\"wind_deg\":253,\"wind_gust\":1.03,\"weather\":[{\"id\":804,\"main\":\"Clouds\",\"description\":\"overcast clouds\",\"icon\":\"04n\"}],\"pop\":0},{\"dt\":1667800800,\"temp\":6.18,\"feels_like\":6.18,\"pressure\":1021,\"humidity\":82,\"dew_point\":3.17,\"uvi\":0,\"clouds\":98,\"visibility\":10000,\"wind_speed\":0.9,\"wind_deg\":267,\"wind_gust\":1.11,\"weather\":[{\"id\":500,\"main\":\"Rain\",\"description\":\"light rain\",\"icon\":\"10d\"}],\"pop\":0.2,\"rain\":{\"1h\":0.16}},{\"dt\":1667804400,\"temp\":6.87,\"feels_like\":6.87,\"pressure\":1022,\"humidity\":80,\"dew_point\":3.48,\"uvi\":0.1,\"clouds\":100,\"visibility\":10000,\"wind_speed\":0.52,\"wind_deg\":336,\"wind_gust\":0.73,\"weather\":[{\"id\":804,\"main\":\"Clouds\",\"description\":\"overcast clouds\",\"icon\":\"04d\"}],\"pop\":0.18},{\"dt\":1667808000,\"temp\":7.8,\"feels_like\":7.8,\"pressure\":1022,\"humidity\":76,\"dew_point\":3.74,\"uvi\":0.33,\"clouds\":100,\"visibility\":10000,\"wind_speed\":0.37,\"wind_deg\":26,\"wind_gust\":0.78,\"weather\":[{\"id\":804,\"main\":\"Clouds\",\"description\":\"overcast clouds\",\"icon\":\"04d\"}],\"pop\":0},{\"dt\":1667811600,\"temp\":9.11,\"feels_like\":9.11,\"pressure\":1022,\"humidity\":71,\"dew_point\":4.04,\"uvi\":0.63,\"clouds\":100,\"visibility\":10000,\"wind_speed\":0.47,\"wind_deg\":94,\"wind_gust\":0.75,\"weather\":[{\"id\":804,\"main\":\"Clouds\",\"description\":\"overcast clouds\",\"icon\":\"04d\"}],\"pop\":0},{\"dt\":1667815200,\"temp\":10.74,\"feels_like\":9.57,\"pressure\":1022,\"humidity\":65,\"dew_point\":4.32,\"uvi\":1.14,\"clouds\":98,\"visibility\":10000,\"wind_speed\":0.89,\"wind_deg\":188,\"wind_gust\":1.47,\"weather\":[{\"id\":804,\"main\":\"Clouds\",\"description\":\"overcast clouds\",\"icon\":\"04d\"}],\"pop\":0},{\"dt\":1667818800,\"temp\":12.13,\"feels_like\":10.97,\"pressure\":1021,\"humidity\":60,\"dew_point\":4.51,\"uvi\":1.24,\"clouds\":89,\"visibility\":10000,\"wind_speed\":1.39,\"wind_deg\":198,\"wind_gust\":1.99,\"weather\":[{\"id\":804,\"main\":\"Clouds\",\"description\":\"overcast clouds\",\"icon\":\"04d\"}],\"pop\":0},{\"dt\":1667822400,\"temp\":12.94,\"feels_like\":11.8,\"pressure\":1021,\"humidity\":58,\"dew_point\":4.73,\"uvi\":1.06,\"clouds\":79,\"visibility\":10000,\"wind_speed\":1.82,\"wind_deg\":208,\"wind_gust\":2.74,\"weather\":[{\"id\":803,\"main\":\"Clouds\",\"description\":\"broken clouds\",\"icon\":\"04d\"}],\"pop\":0},{\"dt\":1667826000,\"temp\":13.33,\"feels_like\":12.21,\"pressure\":1021,\"humidity\":57,\"dew_point\":5.05,\"uvi\":0.74,\"clouds\":8,\"visibility\":10000,\"wind_speed\":2.15,\"wind_deg\":199,\"wind_gust\":3.03,\"weather\":[{\"id\":800,\"main\":\"Clear\",\"description\":\"clear sky\",\"icon\":\"01d\"}],\"pop\":0},{\"dt\":1667829600,\"temp\":12.88,\"feels_like\":11.84,\"pressure\":1021,\"humidity\":62,\"dew_point\":5.64,\"uvi\":0.35,\"clouds\":4,\"visibility\":10000,\"wind_speed\":2.02,\"wind_deg\":183,\"wind_gust\":3.22,\"weather\":[{\"id\":800,\"main\":\"Clear\",\"description\":\"clear sky\",\"icon\":\"01d\"}],\"pop\":0},{\"dt\":1667833200,\"temp\":10.83,\"feels_like\":9.82,\"pressure\":1021,\"humidity\":71,\"dew_point\":5.6,\"uvi\":0,\"clouds\":4,\"visibility\":10000,\"wind_speed\":1.77,\"wind_deg\":175,\"wind_gust\":1.81,\"weather\":[{\"id\":800,\"main\":\"Clear\",\"description\":\"clear sky\",\"icon\":\"01d\"}],\"pop\":0},{\"dt\":1667836800,\"temp\":9.59,\"feels_like\":8.94,\"pressure\":1021,\"humidity\":76,\"dew_point\":5.37,\"uvi\":0,\"clouds\":15,\"visibility\":10000,\"wind_speed\":1.74,\"wind_deg\":160,\"wind_gust\":1.73,\"weather\":[{\"id\":801,\"main\":\"Clouds\",\"description\":\"few clouds\",\"icon\":\"02n\"}],\"pop\":0},{\"dt\":1667840400,\"temp\":9.09,\"feels_like\":8.31,\"pressure\":1022,\"humidity\":77,\"dew_point\":5.22,\"uvi\":0,\"clouds\":24,\"visibility\":10000,\"wind_speed\":1.8,\"wind_deg\":146,\"wind_gust\":1.83,\"weather\":[{\"id\":801,\"main\":\"Clouds\",\"description\":\"few clouds\",\"icon\":\"02n\"}],\"pop\":0},{\"dt\":1667844000,\"temp\":8.67,\"feels_like\":7.77,\"pressure\":1022,\"humidity\":79,\"dew_point\":5.09,\"uvi\":0,\"clouds\":35,\"visibility\":10000,\"wind_speed\":1.86,\"wind_deg\":142,\"wind_gust\":1.9,\"weather\":[{\"id\":802,\"main\":\"Clouds\",\"description\":\"scattered clouds\",\"icon\":\"03n\"}],\"pop\":0},{\"dt\":1667847600,\"temp\":8.29,\"feels_like\":7.61,\"pressure\":1022,\"humidity\":80,\"dew_point\":4.98,\"uvi\":0,\"clouds\":70,\"visibility\":10000,\"wind_speed\":1.58,\"wind_deg\":146,\"wind_gust\":1.63,\"weather\":[{\"id\":803,\"main\":\"Clouds\",\"description\":\"broken clouds\",\"icon\":\"04n\"}],\"pop\":0},{\"dt\":1667851200,\"temp\":7.89,\"feels_like\":7.29,\"pressure\":1022,\"humidity\":82,\"dew_point\":4.9,\"uvi\":0,\"clouds\":48,\"visibility\":10000,\"wind_speed\":1.46,\"wind_deg\":134,\"wind_gust\":1.43,\"weather\":[{\"id\":802,\"main\":\"Clouds\",\"description\":\"scattered clouds\",\"icon\":\"03n\"}],\"pop\":0},{\"dt\":1667854800,\"temp\":7.54,\"feels_like\":6.77,\"pressure\":1022,\"humidity\":84,\"dew_point\":4.85,\"uvi\":0,\"clouds\":42,\"visibility\":10000,\"wind_speed\":1.56,\"wind_deg\":122,\"wind_gust\":1.49,\"weather\":[{\"id\":802,\"main\":\"Clouds\",\"description\":\"scattered clouds\",\"icon\":\"03n\"}],\"pop\":0},{\"dt\":1667858400,\"temp\":7.19,\"feels_like\":6.32,\"pressure\":1022,\"humidity\":86,\"dew_point\":4.87,\"uvi\":0,\"clouds\":39,\"visibility\":10000,\"wind_speed\":1.61,\"wind_deg\":116,\"wind_gust\":1.57,\"weather\":[{\"id\":802,\"main\":\"Clouds\",\"description\":\"scattered clouds\",\"icon\":\"03n\"}],\"pop\":0},{\"dt\":1667862000,\"temp\":6.89,\"feels_like\":5.9,\"pressure\":1022,\"humidity\":88,\"dew_point\":4.91,\"uvi\":0,\"clouds\":42,\"visibility\":10000,\"wind_speed\":1.68,\"wind_deg\":110,\"wind_gust\":1.66,\"weather\":[{\"id\":802,\"main\":\"Clouds\",\"description\":\"scattered clouds\",\"icon\":\"03n\"}],\"pop\":0},{\"dt\":1667865600,\"temp\":6.59,\"feels_like\":5.43,\"pressure\":1022,\"humidity\":90,\"dew_point\":4.9,\"uvi\":0,\"clouds\":38,\"visibility\":10000,\"wind_speed\":1.79,\"wind_deg\":104,\"wind_gust\":1.73,\"weather\":[{\"id\":802,\"main\":\"Clouds\",\"description\":\"scattered clouds\",\"icon\":\"03n\"}],\"pop\":0},{\"dt\":1667869200,\"temp\":6.32,\"feels_like\":4.97,\"pressure\":1022,\"humidity\":91,\"dew_point\":4.87,\"uvi\":0,\"clouds\":24,\"visibility\":10000,\"wind_speed\":1.93,\"wind_deg\":101,\"wind_gust\":1.89,\"weather\":[{\"id\":801,\"main\":\"Clouds\",\"description\":\"few clouds\",\"icon\":\"02n\"}],\"pop\":0},{\"dt\":1667872800,\"temp\":6.07,\"feels_like\":4.59,\"pressure\":1022,\"humidity\":92,\"dew_point\":4.83,\"uvi\":0,\"clouds\":26,\"visibility\":10000,\"wind_speed\":2.02,\"wind_deg\":99,\"wind_gust\":2.06,\"weather\":[{\"id\":802,\"main\":\"Clouds\",\"description\":\"scattered clouds\",\"icon\":\"03n\"}],\"pop\":0},{\"dt\":1667876400,\"temp\":5.88,\"feels_like\":4.27,\"pressure\":1021,\"humidity\":93,\"dew_point\":4.77,\"uvi\":0,\"clouds\":25,\"visibility\":10000,\"wind_speed\":2.13,\"wind_deg\":106,\"wind_gust\":2.26,\"weather\":[{\"id\":802,\"main\":\"Clouds\",\"description\":\"scattered clouds\",\"icon\":\"03n\"}],\"pop\":0},{\"dt\":1667880000,\"temp\":5.69,\"feels_like\":4.01,\"pressure\":1021,\"humidity\":94,\"dew_point\":4.7,\"uvi\":0,\"clouds\":27,\"visibility\":10000,\"wind_speed\":2.17,\"wind_deg\":106,\"wind_gust\":2.38,\"weather\":[{\"id\":802,\"main\":\"Clouds\",\"description\":\"scattered clouds\",\"icon\":\"03n\"}],\"pop\":0},{\"dt\":1667883600,\"temp\":5.51,\"feels_like\":3.79,\"pressure\":1021,\"humidity\":95,\"dew_point\":4.58,\"uvi\":0,\"clouds\":31,\"visibility\":10000,\"wind_speed\":2.18,\"wind_deg\":106,\"wind_gust\":2.45,\"weather\":[{\"id\":802,\"main\":\"Clouds\",\"description\":\"scattered clouds\",\"icon\":\"03n\"}],\"pop\":0},{\"dt\":1667887200,\"temp\":5.39,\"feels_like\":3.53,\"pressure\":1021,\"humidity\":95,\"dew_point\":4.48,\"uvi\":0,\"clouds\":35,\"visibility\":10000,\"wind_speed\":2.31,\"wind_deg\":111,\"wind_gust\":2.74,\"weather\":[{\"id\":802,\"main\":\"Clouds\",\"description\":\"scattered clouds\",\"icon\":\"03d\"}],\"pop\":0},{\"dt\":1667890800,\"temp\":6.4,\"feels_like\":4.84,\"pressure\":1022,\"humidity\":92,\"dew_point\":5,\"uvi\":0.14,\"clouds\":32,\"visibility\":10000,\"wind_speed\":2.17,\"wind_deg\":110,\"wind_gust\":4.33,\"weather\":[{\"id\":802,\"main\":\"Clouds\",\"description\":\"scattered clouds\",\"icon\":\"03d\"}],\"pop\":0},{\"dt\":1667894400,\"temp\":8.45,\"feels_like\":6.72,\"pressure\":1021,\"humidity\":82,\"dew_point\":5.37,\"uvi\":0.44,\"clouds\":30,\"visibility\":10000,\"wind_speed\":2.89,\"wind_deg\":122,\"wind_gust\":5.95,\"weather\":[{\"id\":802,\"main\":\"Clouds\",\"description\":\"scattered clouds\",\"icon\":\"03d\"}],\"pop\":0},{\"dt\":1667898000,\"temp\":10.36,\"feels_like\":9.38,\"pressure\":1021,\"humidity\":74,\"dew_point\":5.8,\"uvi\":0.85,\"clouds\":26,\"visibility\":10000,\"wind_speed\":3.56,\"wind_deg\":135,\"wind_gust\":6.48,\"weather\":[{\"id\":802,\"main\":\"Clouds\",\"description\":\"scattered clouds\",\"icon\":\"03d\"}],\"pop\":0},{\"dt\":1667901600,\"temp\":12.04,\"feels_like\":11.08,\"pressure\":1021,\"humidity\":68,\"dew_point\":6.24,\"uvi\":1.22,\"clouds\":22,\"visibility\":10000,\"wind_speed\":4.42,\"wind_deg\":146,\"wind_gust\":7.28,\"weather\":[{\"id\":801,\"main\":\"Clouds\",\"description\":\"few clouds\",\"icon\":\"02d\"}],\"pop\":0},{\"dt\":1667905200,\"temp\":13.43,\"feels_like\":12.47,\"pressure\":1020,\"humidity\":63,\"dew_point\":6.46,\"uvi\":1.33,\"clouds\":20,\"visibility\":10000,\"wind_speed\":5.26,\"wind_deg\":151,\"wind_gust\":8.09,\"weather\":[{\"id\":801,\"main\":\"Clouds\",\"description\":\"few clouds\",\"icon\":\"02d\"}],\"pop\":0}],\"daily\":[{\"dt\":1667728800,\"sunrise\":1667713408,\"sunset\":1667748269,\"moonrise\":1667745720,\"moonset\":1667704020,\"moon_phase\":0.43,\"temp\":{\"day\":11.59,\"min\":5.48,\"max\":12.34,\"night\":6.07,\"eve\":9.41,\"morn\":6},\"feels_like\":{\"day\":10.4,\"night\":4.57,\"eve\":9.15,\"morn\":2.98},\"pressure\":1019,\"humidity\":61,\"dew_point\":4.33,\"wind_speed\":4.34,\"wind_deg\":336,\"wind_gust\":10.98,\"weather\":[{\"id\":802,\"main\":\"Clouds\",\"description\":\"scattered clouds\",\"icon\":\"03d\"}],\"clouds\":33,\"pop\":0,\"uvi\":1.26},{\"dt\":1667815200,\"sunrise\":1667799902,\"sunset\":1667834582,\"moonrise\":1667833140,\"moonset\":1667794920,\"moon_phase\":0.47,\"temp\":{\"day\":10.74,\"min\":5.35,\"max\":13.33,\"night\":7.19,\"eve\":9.59,\"morn\":5.35},\"feels_like\":{\"day\":9.57,\"night\":6.32,\"eve\":8.94,\"morn\":5.35},\"pressure\":1022,\"humidity\":65,\"dew_point\":4.32,\"wind_speed\":2.15,\"wind_deg\":199,\"wind_gust\":3.22,\"weather\":[{\"id\":500,\"main\":\"Rain\",\"description\":\"light rain\",\"icon\":\"10d\"}],\"clouds\":98,\"pop\":0.2,\"rain\":0.16,\"uvi\":1.24},{\"dt\":1667901600,\"sunrise\":1667886397,\"sunset\":1667920896,\"moonrise\":1667920680,\"moonset\":1667885760,\"moon_phase\":0.5,\"temp\":{\"day\":12.04,\"min\":5.39,\"max\":14.94,\"night\":8.16,\"eve\":11.04,\"morn\":5.69},\"feels_like\":{\"day\":11.08,\"night\":6.1,\"eve\":10.21,\"morn\":4.01},\"pressure\":1021,\"humidity\":68,\"dew_point\":6.24,\"wind_speed\":5.53,\"wind_deg\":152,\"wind_gust\":9.58,\"weather\":[{\"id\":801,\"main\":\"Clouds\",\"description\":\"few clouds\",\"icon\":\"02d\"}],\"clouds\":22,\"pop\":0,\"uvi\":1.33},{\"dt\":1667988000,\"sunrise\":1667972891,\"sunset\":1668007213,\"moonrise\":1668008520,\"moonset\":1667976660,\"moon_phase\":0.53,\"temp\":{\"day\":11.54,\"min\":7.04,\"max\":12.91,\"night\":7.42,\"eve\":9.7,\"morn\":7.3},\"feels_like\":{\"day\":10.63,\"night\":7.42,\"eve\":9.7,\"morn\":5.13},\"pressure\":1019,\"humidity\":72,\"dew_point\":6.58,\"wind_speed\":4.42,\"wind_deg\":154,\"wind_gust\":9.21,\"weather\":[{\"id\":804,\"main\":\"Clouds\",\"description\":\"overcast clouds\",\"icon\":\"04d\"}],\"clouds\":96,\"pop\":0,\"uvi\":1.15},{\"dt\":1668074400,\"sunrise\":1668059385,\"sunset\":1668093531,\"moonrise\":1668096780,\"moonset\":1668067380,\"moon_phase\":0.56,\"temp\":{\"day\":11.13,\"min\":6.54,\"max\":12.4,\"night\":7.38,\"eve\":9.39,\"morn\":6.54},\"feels_like\":{\"day\":10.05,\"night\":5.39,\"eve\":7.98,\"morn\":6.54},\"pressure\":1024,\"humidity\":67,\"dew_point\":5.09,\"wind_speed\":4.95,\"wind_deg\":311,\"wind_gust\":8.46,\"weather\":[{\"id\":804,\"main\":\"Clouds\",\"description\":\"overcast clouds\",\"icon\":\"04d\"}],\"clouds\":100,\"pop\":0.01,\"uvi\":1.15},{\"dt\":1668160800,\"sunrise\":1668145879,\"sunset\":1668179851,\"moonrise\":1668185520,\"moonset\":1668157740,\"moon_phase\":0.6,\"temp\":{\"day\":9.79,\"min\":5.22,\"max\":12.04,\"night\":6.16,\"eve\":9.52,\"morn\":6.02},\"feels_like\":{\"day\":8.22,\"night\":4.04,\"eve\":7.7,\"morn\":3.79},\"pressure\":1032,\"humidity\":67,\"dew_point\":3.84,\"wind_speed\":4.72,\"wind_deg\":353,\"wind_gust\":6.61,\"weather\":[{\"id\":800,\"main\":\"Clear\",\"description\":\"clear sky\",\"icon\":\"01d\"}],\"clouds\":8,\"pop\":0,\"uvi\":2},{\"dt\":1668247200,\"sunrise\":1668232373,\"sunset\":1668266173,\"moonrise\":1668274740,\"moonset\":1668247680,\"moon_phase\":0.63,\"temp\":{\"day\":8.9,\"min\":3.97,\"max\":12.1,\"night\":6.62,\"eve\":9.58,\"morn\":4.59},\"feels_like\":{\"day\":7.45,\"night\":5.38,\"eve\":9.12,\"morn\":2.31},\"pressure\":1033,\"humidity\":66,\"dew_point\":2.73,\"wind_speed\":2.96,\"wind_deg\":337,\"wind_gust\":4.64,\"weather\":[{\"id\":800,\"main\":\"Clear\",\"description\":\"clear sky\",\"icon\":\"01d\"}],\"clouds\":8,\"pop\":0,\"uvi\":2},{\"dt\":1668333600,\"sunrise\":1668318866,\"sunset\":1668352497,\"moonrise\":1668364620,\"moonset\":1668336960,\"moon_phase\":0.66,\"temp\":{\"day\":9.44,\"min\":5.88,\"max\":11.82,\"night\":8.25,\"eve\":9.94,\"morn\":6.53},\"feels_like\":{\"day\":8.44,\"night\":8.25,\"eve\":9.61,\"morn\":4.76},\"pressure\":1034,\"humidity\":61,\"dew_point\":2.26,\"wind_speed\":2.44,\"wind_deg\":44,\"wind_gust\":4.08,\"weather\":[{\"id\":804,\"main\":\"Clouds\",\"description\":\"overcast clouds\",\"icon\":\"04d\"}],\"clouds\":90,\"pop\":0,\"uvi\":2}]}\n"
     ]
    }
   ],
   "source": [
    "perform_auth()"
   ]
  },
  {
   "cell_type": "code",
   "execution_count": 11,
   "id": "8a2a6a67",
   "metadata": {},
   "outputs": [],
   "source": [
    "def get_weather():\n",
    "    token_url = BASE_URL + _ADD_URL + _GEEOTAG + _GET_API + _GET_UNITS\n",
    "    dt = datetime(2021, 3, 5, 14, 30, 21)\n",
    "    #tme = int(dt.timestamp())\n",
    "    token_url = token_url + \"&exclude=minutely,hourly,daily\"\n",
    "    print (\"Adrresa je: \", token_url)\n",
    "    r = requests.get(token_url)\n",
    "    print (r.text)"
   ]
  },
  {
   "cell_type": "code",
   "execution_count": 12,
   "id": "1c3c9408",
   "metadata": {},
   "outputs": [
    {
     "name": "stdout",
     "output_type": "stream",
     "text": [
      "Adrresa je:  https://api.openweathermap.org/data/3.0/onecall?lat=48.35068075778566&lon=17.411345243453983&appid=93ff8657ac2d8cc5045389f9e34b62a2&units=metric&exclude=minutely,hourly,daily\n",
      "{\"lat\":48.3507,\"lon\":17.4113,\"timezone\":\"Europe/Bratislava\",\"timezone_offset\":3600,\"current\":{\"dt\":1667737673,\"sunrise\":1667713408,\"sunset\":1667748269,\"temp\":12.34,\"feels_like\":11.2,\"pressure\":1018,\"humidity\":60,\"dew_point\":4.8,\"uvi\":1.09,\"clouds\":40,\"visibility\":10000,\"wind_speed\":1.97,\"wind_deg\":3,\"wind_gust\":2.3,\"weather\":[{\"id\":802,\"main\":\"Clouds\",\"description\":\"scattered clouds\",\"icon\":\"03d\"}]}}\n"
     ]
    }
   ],
   "source": [
    "get_weather()"
   ]
  },
  {
   "cell_type": "code",
   "execution_count": 13,
   "id": "10975f87",
   "metadata": {},
   "outputs": [
    {
     "name": "stdout",
     "output_type": "stream",
     "text": [
      "2022-11-06 11:04:53\n"
     ]
    }
   ],
   "source": [
    "timestamp = 1667729093\n",
    "dt = datetime.fromtimestamp( timestamp )\n",
    "print( dt )"
   ]
  },
  {
   "cell_type": "code",
   "execution_count": null,
   "id": "409c0d8c",
   "metadata": {},
   "outputs": [],
   "source": []
  },
  {
   "cell_type": "code",
   "execution_count": null,
   "id": "d1ed6031",
   "metadata": {},
   "outputs": [],
   "source": []
  }
 ],
 "metadata": {
  "kernelspec": {
   "display_name": "Python 3 (ipykernel)",
   "language": "python",
   "name": "python3"
  },
  "language_info": {
   "codemirror_mode": {
    "name": "ipython",
    "version": 3
   },
   "file_extension": ".py",
   "mimetype": "text/x-python",
   "name": "python",
   "nbconvert_exporter": "python",
   "pygments_lexer": "ipython3",
   "version": "3.10.7"
  }
 },
 "nbformat": 4,
 "nbformat_minor": 5
}
