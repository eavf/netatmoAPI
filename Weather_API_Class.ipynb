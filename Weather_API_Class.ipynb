{
 "cells": [
  {
   "cell_type": "code",
   "execution_count": 1,
   "id": "28f306cd",
   "metadata": {},
   "outputs": [],
   "source": [
    "from _kluce import *\n",
    "import requests, datetime\n",
    "import pandas as pd\n",
    "import json, time\n",
    "import urllib.parse\n",
    "from datetime import datetime, timezone"
   ]
  },
  {
   "cell_type": "code",
   "execution_count": 2,
   "id": "d4d9d93b",
   "metadata": {},
   "outputs": [],
   "source": [
    "# Example\n",
    "# https://api.openweathermap.org/data/3.0/onecall?lat=33.44&lon=-94.04&exclude=hourly,daily&appid={API key}\n",
    "\n",
    "BASE_URL = \"https://api.openweathermap.org/data/3.0/\"\n",
    "lon = 17.411345243453983\n",
    "lat = 48.35068075778566\n",
    "#48.35063156292564, 17.41130192989502\n",
    "# Lat and lon from neetatmo home\n",
    "_ADD_URL = \"onecall\"\n",
    "_GEEOTAG = f\"?lat={lat}&lon={lon}\"\n",
    "_GET_API = f\"&appid={weather_API_key}\"\n",
    "_GET_UNITS = \"&units=metric\"\n",
    "\n"
   ]
  },
  {
   "cell_type": "code",
   "execution_count": 3,
   "id": "535fa933",
   "metadata": {},
   "outputs": [],
   "source": [
    "def perform_auth():\n",
    "    token_url = BASE_URL + _ADD_URL + _GEEOTAG + _GET_API + _GET_UNITS\n",
    "    tme = int(time.time())\n",
    "    token_url = token_url + f\"&dt={tme}\"\n",
    "    print (\"Adrresa je: \", token_url)\n",
    "    r = requests.get(token_url)\n",
    "    print (r.text)"
   ]
  },
  {
   "cell_type": "code",
   "execution_count": 4,
   "id": "a5a6e118",
   "metadata": {},
   "outputs": [
    {
     "name": "stdout",
     "output_type": "stream",
     "text": [
      "Adrresa je:  https://api.openweathermap.org/data/3.0/onecall?lat=48.35068075778566&lon=17.411345243453983&appid=93ff8657ac2d8cc5045389f9e34b62a2&units=metric&dt=1669923897\n",
      "{\"lat\":48.3507,\"lon\":17.4113,\"timezone\":\"Europe/Bratislava\",\"timezone_offset\":3600,\"current\":{\"dt\":1669923897,\"sunrise\":1669875620,\"sunset\":1669906721,\"temp\":1.64,\"feels_like\":0.18,\"pressure\":1023,\"humidity\":75,\"dew_point\":-2.04,\"uvi\":0,\"clouds\":90,\"visibility\":10000,\"wind_speed\":1.46,\"wind_deg\":1,\"wind_gust\":1.42,\"weather\":[{\"id\":804,\"main\":\"Clouds\",\"description\":\"overcast clouds\",\"icon\":\"04n\"}]},\"minutely\":[{\"dt\":1669923900,\"precipitation\":0},{\"dt\":1669923960,\"precipitation\":0},{\"dt\":1669924020,\"precipitation\":0},{\"dt\":1669924080,\"precipitation\":0},{\"dt\":1669924140,\"precipitation\":0},{\"dt\":1669924200,\"precipitation\":0},{\"dt\":1669924260,\"precipitation\":0},{\"dt\":1669924320,\"precipitation\":0},{\"dt\":1669924380,\"precipitation\":0},{\"dt\":1669924440,\"precipitation\":0},{\"dt\":1669924500,\"precipitation\":0},{\"dt\":1669924560,\"precipitation\":0},{\"dt\":1669924620,\"precipitation\":0},{\"dt\":1669924680,\"precipitation\":0},{\"dt\":1669924740,\"precipitation\":0},{\"dt\":1669924800,\"precipitation\":0},{\"dt\":1669924860,\"precipitation\":0},{\"dt\":1669924920,\"precipitation\":0},{\"dt\":1669924980,\"precipitation\":0},{\"dt\":1669925040,\"precipitation\":0},{\"dt\":1669925100,\"precipitation\":0},{\"dt\":1669925160,\"precipitation\":0},{\"dt\":1669925220,\"precipitation\":0},{\"dt\":1669925280,\"precipitation\":0},{\"dt\":1669925340,\"precipitation\":0},{\"dt\":1669925400,\"precipitation\":0},{\"dt\":1669925460,\"precipitation\":0},{\"dt\":1669925520,\"precipitation\":0},{\"dt\":1669925580,\"precipitation\":0},{\"dt\":1669925640,\"precipitation\":0},{\"dt\":1669925700,\"precipitation\":0},{\"dt\":1669925760,\"precipitation\":0},{\"dt\":1669925820,\"precipitation\":0},{\"dt\":1669925880,\"precipitation\":0},{\"dt\":1669925940,\"precipitation\":0},{\"dt\":1669926000,\"precipitation\":0},{\"dt\":1669926060,\"precipitation\":0},{\"dt\":1669926120,\"precipitation\":0},{\"dt\":1669926180,\"precipitation\":0},{\"dt\":1669926240,\"precipitation\":0},{\"dt\":1669926300,\"precipitation\":0},{\"dt\":1669926360,\"precipitation\":0},{\"dt\":1669926420,\"precipitation\":0},{\"dt\":1669926480,\"precipitation\":0},{\"dt\":1669926540,\"precipitation\":0},{\"dt\":1669926600,\"precipitation\":0},{\"dt\":1669926660,\"precipitation\":0},{\"dt\":1669926720,\"precipitation\":0},{\"dt\":1669926780,\"precipitation\":0},{\"dt\":1669926840,\"precipitation\":0},{\"dt\":1669926900,\"precipitation\":0},{\"dt\":1669926960,\"precipitation\":0},{\"dt\":1669927020,\"precipitation\":0},{\"dt\":1669927080,\"precipitation\":0},{\"dt\":1669927140,\"precipitation\":0},{\"dt\":1669927200,\"precipitation\":0},{\"dt\":1669927260,\"precipitation\":0},{\"dt\":1669927320,\"precipitation\":0},{\"dt\":1669927380,\"precipitation\":0},{\"dt\":1669927440,\"precipitation\":0},{\"dt\":1669927500,\"precipitation\":0}],\"hourly\":[{\"dt\":1669921200,\"temp\":1.76,\"feels_like\":0.21,\"pressure\":1023,\"humidity\":74,\"dew_point\":-2.1,\"uvi\":0,\"clouds\":89,\"visibility\":10000,\"wind_speed\":1.53,\"wind_deg\":358,\"wind_gust\":1.48,\"weather\":[{\"id\":804,\"main\":\"Clouds\",\"description\":\"overcast clouds\",\"icon\":\"04n\"}],\"pop\":0},{\"dt\":1669924800,\"temp\":1.64,\"feels_like\":0.18,\"pressure\":1023,\"humidity\":75,\"dew_point\":-2.04,\"uvi\":0,\"clouds\":90,\"visibility\":10000,\"wind_speed\":1.46,\"wind_deg\":1,\"wind_gust\":1.42,\"weather\":[{\"id\":804,\"main\":\"Clouds\",\"description\":\"overcast clouds\",\"icon\":\"04n\"}],\"pop\":0},{\"dt\":1669928400,\"temp\":1.63,\"feels_like\":1.63,\"pressure\":1023,\"humidity\":76,\"dew_point\":-1.89,\"uvi\":0,\"clouds\":89,\"visibility\":10000,\"wind_speed\":1.3,\"wind_deg\":0,\"wind_gust\":1.32,\"weather\":[{\"id\":804,\"main\":\"Clouds\",\"description\":\"overcast clouds\",\"icon\":\"04n\"}],\"pop\":0},{\"dt\":1669932000,\"temp\":1.48,\"feels_like\":1.48,\"pressure\":1023,\"humidity\":76,\"dew_point\":-2.02,\"uvi\":0,\"clouds\":87,\"visibility\":10000,\"wind_speed\":1.18,\"wind_deg\":3,\"wind_gust\":1.16,\"weather\":[{\"id\":804,\"main\":\"Clouds\",\"description\":\"overcast clouds\",\"icon\":\"04n\"}],\"pop\":0},{\"dt\":1669935600,\"temp\":1.23,\"feels_like\":1.23,\"pressure\":1023,\"humidity\":77,\"dew_point\":-2.08,\"uvi\":0,\"clouds\":82,\"visibility\":10000,\"wind_speed\":1.28,\"wind_deg\":16,\"wind_gust\":1.23,\"weather\":[{\"id\":803,\"main\":\"Clouds\",\"description\":\"broken clouds\",\"icon\":\"04n\"}],\"pop\":0},{\"dt\":1669939200,\"temp\":0.96,\"feels_like\":-0.61,\"pressure\":1023,\"humidity\":79,\"dew_point\":-2,\"uvi\":0,\"clouds\":80,\"visibility\":10000,\"wind_speed\":1.47,\"wind_deg\":21,\"wind_gust\":1.43,\"weather\":[{\"id\":803,\"main\":\"Clouds\",\"description\":\"broken clouds\",\"icon\":\"04n\"}],\"pop\":0},{\"dt\":1669942800,\"temp\":0.93,\"feels_like\":-0.71,\"pressure\":1023,\"humidity\":78,\"dew_point\":-2.63,\"uvi\":0,\"clouds\":100,\"visibility\":10000,\"wind_speed\":1.51,\"wind_deg\":34,\"wind_gust\":1.47,\"weather\":[{\"id\":804,\"main\":\"Clouds\",\"description\":\"overcast clouds\",\"icon\":\"04n\"}],\"pop\":0},{\"dt\":1669946400,\"temp\":0.79,\"feels_like\":0.79,\"pressure\":1023,\"humidity\":78,\"dew_point\":-2.7,\"uvi\":0,\"clouds\":99,\"visibility\":10000,\"wind_speed\":1.28,\"wind_deg\":40,\"wind_gust\":1.3,\"weather\":[{\"id\":804,\"main\":\"Clouds\",\"description\":\"overcast clouds\",\"icon\":\"04n\"}],\"pop\":0},{\"dt\":1669950000,\"temp\":0.6,\"feels_like\":0.6,\"pressure\":1023,\"humidity\":79,\"dew_point\":-2.75,\"uvi\":0,\"clouds\":99,\"visibility\":10000,\"wind_speed\":1.33,\"wind_deg\":47,\"wind_gust\":1.31,\"weather\":[{\"id\":804,\"main\":\"Clouds\",\"description\":\"overcast clouds\",\"icon\":\"04n\"}],\"pop\":0},{\"dt\":1669953600,\"temp\":0.62,\"feels_like\":-0.99,\"pressure\":1023,\"humidity\":79,\"dew_point\":-2.76,\"uvi\":0,\"clouds\":100,\"visibility\":10000,\"wind_speed\":1.46,\"wind_deg\":43,\"wind_gust\":1.43,\"weather\":[{\"id\":804,\"main\":\"Clouds\",\"description\":\"overcast clouds\",\"icon\":\"04n\"}],\"pop\":0},{\"dt\":1669957200,\"temp\":0.79,\"feels_like\":0.79,\"pressure\":1023,\"humidity\":78,\"dew_point\":-2.72,\"uvi\":0,\"clouds\":100,\"visibility\":10000,\"wind_speed\":1.2,\"wind_deg\":57,\"wind_gust\":1.18,\"weather\":[{\"id\":804,\"main\":\"Clouds\",\"description\":\"overcast clouds\",\"icon\":\"04n\"}],\"pop\":0},{\"dt\":1669960800,\"temp\":0.77,\"feels_like\":0.77,\"pressure\":1023,\"humidity\":78,\"dew_point\":-2.68,\"uvi\":0,\"clouds\":100,\"visibility\":10000,\"wind_speed\":1.1,\"wind_deg\":67,\"wind_gust\":1.14,\"weather\":[{\"id\":804,\"main\":\"Clouds\",\"description\":\"overcast clouds\",\"icon\":\"04n\"}],\"pop\":0},{\"dt\":1669964400,\"temp\":1.03,\"feels_like\":1.03,\"pressure\":1023,\"humidity\":77,\"dew_point\":-2.61,\"uvi\":0,\"clouds\":100,\"visibility\":10000,\"wind_speed\":1.1,\"wind_deg\":75,\"wind_gust\":1.09,\"weather\":[{\"id\":804,\"main\":\"Clouds\",\"description\":\"overcast clouds\",\"icon\":\"04d\"}],\"pop\":0},{\"dt\":1669968000,\"temp\":1.98,\"feels_like\":1.98,\"pressure\":1023,\"humidity\":73,\"dew_point\":-2.51,\"uvi\":0.15,\"clouds\":100,\"visibility\":10000,\"wind_speed\":0.91,\"wind_deg\":98,\"wind_gust\":1.18,\"weather\":[{\"id\":804,\"main\":\"Clouds\",\"description\":\"overcast clouds\",\"icon\":\"04d\"}],\"pop\":0},{\"dt\":1669971600,\"temp\":2.89,\"feels_like\":2.89,\"pressure\":1023,\"humidity\":68,\"dew_point\":-2.54,\"uvi\":0.33,\"clouds\":100,\"visibility\":10000,\"wind_speed\":1.08,\"wind_deg\":113,\"wind_gust\":1.36,\"weather\":[{\"id\":804,\"main\":\"Clouds\",\"description\":\"overcast clouds\",\"icon\":\"04d\"}],\"pop\":0},{\"dt\":1669975200,\"temp\":3.64,\"feels_like\":3.64,\"pressure\":1023,\"humidity\":64,\"dew_point\":-2.56,\"uvi\":0.49,\"clouds\":100,\"visibility\":10000,\"wind_speed\":1.29,\"wind_deg\":125,\"wind_gust\":1.73,\"weather\":[{\"id\":804,\"main\":\"Clouds\",\"description\":\"overcast clouds\",\"icon\":\"04d\"}],\"pop\":0},{\"dt\":1669978800,\"temp\":4.14,\"feels_like\":2.98,\"pressure\":1023,\"humidity\":61,\"dew_point\":-2.68,\"uvi\":0.54,\"clouds\":100,\"visibility\":10000,\"wind_speed\":1.49,\"wind_deg\":134,\"wind_gust\":2.24,\"weather\":[{\"id\":804,\"main\":\"Clouds\",\"description\":\"overcast clouds\",\"icon\":\"04d\"}],\"pop\":0},{\"dt\":1669982400,\"temp\":4.33,\"feels_like\":2.87,\"pressure\":1023,\"humidity\":60,\"dew_point\":-2.76,\"uvi\":0.46,\"clouds\":100,\"visibility\":10000,\"wind_speed\":1.75,\"wind_deg\":139,\"wind_gust\":2.7,\"weather\":[{\"id\":804,\"main\":\"Clouds\",\"description\":\"overcast clouds\",\"icon\":\"04d\"}],\"pop\":0},{\"dt\":1669986000,\"temp\":4.18,\"feels_like\":2.31,\"pressure\":1023,\"humidity\":62,\"dew_point\":-2.52,\"uvi\":0.23,\"clouds\":100,\"visibility\":10000,\"wind_speed\":2.1,\"wind_deg\":136,\"wind_gust\":3.44,\"weather\":[{\"id\":804,\"main\":\"Clouds\",\"description\":\"overcast clouds\",\"icon\":\"04d\"}],\"pop\":0.17},{\"dt\":1669989600,\"temp\":3.71,\"feels_like\":1.51,\"pressure\":1023,\"humidity\":67,\"dew_point\":-1.95,\"uvi\":0.1,\"clouds\":100,\"visibility\":10000,\"wind_speed\":2.35,\"wind_deg\":139,\"wind_gust\":3.99,\"weather\":[{\"id\":804,\"main\":\"Clouds\",\"description\":\"overcast clouds\",\"icon\":\"04d\"}],\"pop\":0.13},{\"dt\":1669993200,\"temp\":2.98,\"feels_like\":0.88,\"pressure\":1023,\"humidity\":74,\"dew_point\":-1.3,\"uvi\":0,\"clouds\":100,\"visibility\":10000,\"wind_speed\":2.12,\"wind_deg\":150,\"wind_gust\":3.89,\"weather\":[{\"id\":804,\"main\":\"Clouds\",\"description\":\"overcast clouds\",\"icon\":\"04n\"}],\"pop\":0.11},{\"dt\":1669996800,\"temp\":2.38,\"feels_like\":0.18,\"pressure\":1023,\"humidity\":82,\"dew_point\":-0.54,\"uvi\":0,\"clouds\":100,\"visibility\":10000,\"wind_speed\":2.12,\"wind_deg\":153,\"wind_gust\":4.84,\"weather\":[{\"id\":804,\"main\":\"Clouds\",\"description\":\"overcast clouds\",\"icon\":\"04n\"}],\"pop\":0.11},{\"dt\":1670000400,\"temp\":2,\"feels_like\":-0.33,\"pressure\":1023,\"humidity\":89,\"dew_point\":0.21,\"uvi\":0,\"clouds\":100,\"visibility\":6262,\"wind_speed\":2.18,\"wind_deg\":145,\"wind_gust\":5.62,\"weather\":[{\"id\":804,\"main\":\"Clouds\",\"description\":\"overcast clouds\",\"icon\":\"04n\"}],\"pop\":0.16},{\"dt\":1670004000,\"temp\":1.73,\"feels_like\":-0.83,\"pressure\":1024,\"humidity\":94,\"dew_point\":0.76,\"uvi\":0,\"clouds\":100,\"visibility\":5960,\"wind_speed\":2.36,\"wind_deg\":138,\"wind_gust\":6.33,\"weather\":[{\"id\":804,\"main\":\"Clouds\",\"description\":\"overcast clouds\",\"icon\":\"04n\"}],\"pop\":0.19},{\"dt\":1670007600,\"temp\":1.72,\"feels_like\":-1.21,\"pressure\":1024,\"humidity\":98,\"dew_point\":1.29,\"uvi\":0,\"clouds\":100,\"visibility\":1139,\"wind_speed\":2.74,\"wind_deg\":130,\"wind_gust\":6.93,\"weather\":[{\"id\":804,\"main\":\"Clouds\",\"description\":\"overcast clouds\",\"icon\":\"04n\"}],\"pop\":0.13},{\"dt\":1670011200,\"temp\":1.84,\"feels_like\":-1.36,\"pressure\":1024,\"humidity\":98,\"dew_point\":1.43,\"uvi\":0,\"clouds\":100,\"visibility\":49,\"wind_speed\":3.08,\"wind_deg\":124,\"wind_gust\":7.31,\"weather\":[{\"id\":804,\"main\":\"Clouds\",\"description\":\"overcast clouds\",\"icon\":\"04n\"}],\"pop\":0.07},{\"dt\":1670014800,\"temp\":1.87,\"feels_like\":-1.7,\"pressure\":1024,\"humidity\":97,\"dew_point\":1.34,\"uvi\":0,\"clouds\":100,\"visibility\":2101,\"wind_speed\":3.58,\"wind_deg\":122,\"wind_gust\":7.82,\"weather\":[{\"id\":804,\"main\":\"Clouds\",\"description\":\"overcast clouds\",\"icon\":\"04n\"}],\"pop\":0.06},{\"dt\":1670018400,\"temp\":1.9,\"feels_like\":-1.99,\"pressure\":1024,\"humidity\":94,\"dew_point\":0.93,\"uvi\":0,\"clouds\":100,\"visibility\":7234,\"wind_speed\":4.07,\"wind_deg\":122,\"wind_gust\":8.02,\"weather\":[{\"id\":804,\"main\":\"Clouds\",\"description\":\"overcast clouds\",\"icon\":\"04n\"}],\"pop\":0.04},{\"dt\":1670022000,\"temp\":2.05,\"feels_like\":-2,\"pressure\":1024,\"humidity\":92,\"dew_point\":0.73,\"uvi\":0,\"clouds\":100,\"visibility\":10000,\"wind_speed\":4.37,\"wind_deg\":123,\"wind_gust\":8.25,\"weather\":[{\"id\":804,\"main\":\"Clouds\",\"description\":\"overcast clouds\",\"icon\":\"04n\"}],\"pop\":0},{\"dt\":1670025600,\"temp\":2.22,\"feels_like\":-2.01,\"pressure\":1024,\"humidity\":92,\"dew_point\":0.87,\"uvi\":0,\"clouds\":100,\"visibility\":10000,\"wind_speed\":4.76,\"wind_deg\":124,\"wind_gust\":8.79,\"weather\":[{\"id\":804,\"main\":\"Clouds\",\"description\":\"overcast clouds\",\"icon\":\"04n\"}],\"pop\":0},{\"dt\":1670029200,\"temp\":2.38,\"feels_like\":-1.9,\"pressure\":1024,\"humidity\":91,\"dew_point\":1,\"uvi\":0,\"clouds\":100,\"visibility\":10000,\"wind_speed\":4.92,\"wind_deg\":124,\"wind_gust\":9.02,\"weather\":[{\"id\":804,\"main\":\"Clouds\",\"description\":\"overcast clouds\",\"icon\":\"04n\"}],\"pop\":0},{\"dt\":1670032800,\"temp\":2.51,\"feels_like\":-1.73,\"pressure\":1024,\"humidity\":91,\"dew_point\":1.16,\"uvi\":0,\"clouds\":100,\"visibility\":10000,\"wind_speed\":4.91,\"wind_deg\":125,\"wind_gust\":9.24,\"weather\":[{\"id\":804,\"main\":\"Clouds\",\"description\":\"overcast clouds\",\"icon\":\"04n\"}],\"pop\":0},{\"dt\":1670036400,\"temp\":2.58,\"feels_like\":-1.71,\"pressure\":1023,\"humidity\":92,\"dew_point\":1.27,\"uvi\":0,\"clouds\":100,\"visibility\":10000,\"wind_speed\":5.04,\"wind_deg\":123,\"wind_gust\":9.6,\"weather\":[{\"id\":804,\"main\":\"Clouds\",\"description\":\"overcast clouds\",\"icon\":\"04n\"}],\"pop\":0},{\"dt\":1670040000,\"temp\":2.71,\"feels_like\":-1.51,\"pressure\":1023,\"humidity\":91,\"dew_point\":1.36,\"uvi\":0,\"clouds\":100,\"visibility\":10000,\"wind_speed\":4.97,\"wind_deg\":125,\"wind_gust\":9.68,\"weather\":[{\"id\":804,\"main\":\"Clouds\",\"description\":\"overcast clouds\",\"icon\":\"04n\"}],\"pop\":0},{\"dt\":1670043600,\"temp\":2.82,\"feels_like\":-1.37,\"pressure\":1023,\"humidity\":91,\"dew_point\":1.34,\"uvi\":0,\"clouds\":100,\"visibility\":10000,\"wind_speed\":4.96,\"wind_deg\":128,\"wind_gust\":9.79,\"weather\":[{\"id\":804,\"main\":\"Clouds\",\"description\":\"overcast clouds\",\"icon\":\"04n\"}],\"pop\":0},{\"dt\":1670047200,\"temp\":2.86,\"feels_like\":-1.27,\"pressure\":1023,\"humidity\":90,\"dew_point\":1.25,\"uvi\":0,\"clouds\":100,\"visibility\":10000,\"wind_speed\":4.86,\"wind_deg\":127,\"wind_gust\":9.7,\"weather\":[{\"id\":804,\"main\":\"Clouds\",\"description\":\"overcast clouds\",\"icon\":\"04n\"}],\"pop\":0},{\"dt\":1670050800,\"temp\":2.98,\"feels_like\":-1.18,\"pressure\":1024,\"humidity\":89,\"dew_point\":1.19,\"uvi\":0,\"clouds\":100,\"visibility\":10000,\"wind_speed\":4.99,\"wind_deg\":128,\"wind_gust\":10.19,\"weather\":[{\"id\":804,\"main\":\"Clouds\",\"description\":\"overcast clouds\",\"icon\":\"04d\"}],\"pop\":0},{\"dt\":1670054400,\"temp\":3.24,\"feels_like\":-0.75,\"pressure\":1024,\"humidity\":87,\"dew_point\":1.22,\"uvi\":0.05,\"clouds\":100,\"visibility\":10000,\"wind_speed\":4.79,\"wind_deg\":129,\"wind_gust\":10.47,\"weather\":[{\"id\":804,\"main\":\"Clouds\",\"description\":\"overcast clouds\",\"icon\":\"04d\"}],\"pop\":0},{\"dt\":1670058000,\"temp\":3.68,\"feels_like\":-0.28,\"pressure\":1024,\"humidity\":85,\"dew_point\":1.3,\"uvi\":0.12,\"clouds\":100,\"visibility\":10000,\"wind_speed\":4.94,\"wind_deg\":130,\"wind_gust\":10.62,\"weather\":[{\"id\":804,\"main\":\"Clouds\",\"description\":\"overcast clouds\",\"icon\":\"04d\"}],\"pop\":0},{\"dt\":1670061600,\"temp\":4.05,\"feels_like\":0.12,\"pressure\":1024,\"humidity\":84,\"dew_point\":1.4,\"uvi\":0.19,\"clouds\":100,\"visibility\":10000,\"wind_speed\":5.06,\"wind_deg\":132,\"wind_gust\":10.38,\"weather\":[{\"id\":804,\"main\":\"Clouds\",\"description\":\"overcast clouds\",\"icon\":\"04d\"}],\"pop\":0},{\"dt\":1670065200,\"temp\":4.4,\"feels_like\":0.5,\"pressure\":1023,\"humidity\":82,\"dew_point\":1.56,\"uvi\":0.21,\"clouds\":100,\"visibility\":10000,\"wind_speed\":5.18,\"wind_deg\":133,\"wind_gust\":10.01,\"weather\":[{\"id\":804,\"main\":\"Clouds\",\"description\":\"overcast clouds\",\"icon\":\"04d\"}],\"pop\":0},{\"dt\":1670068800,\"temp\":4.84,\"feels_like\":0.98,\"pressure\":1023,\"humidity\":81,\"dew_point\":1.66,\"uvi\":0.18,\"clouds\":100,\"visibility\":10000,\"wind_speed\":5.33,\"wind_deg\":138,\"wind_gust\":10.04,\"weather\":[{\"id\":804,\"main\":\"Clouds\",\"description\":\"overcast clouds\",\"icon\":\"04d\"}],\"pop\":0},{\"dt\":1670072400,\"temp\":4.98,\"feels_like\":1.1,\"pressure\":1022,\"humidity\":80,\"dew_point\":1.74,\"uvi\":0.1,\"clouds\":100,\"visibility\":10000,\"wind_speed\":5.45,\"wind_deg\":135,\"wind_gust\":10.53,\"weather\":[{\"id\":804,\"main\":\"Clouds\",\"description\":\"overcast clouds\",\"icon\":\"04d\"}],\"pop\":0},{\"dt\":1670076000,\"temp\":5.22,\"feels_like\":1.4,\"pressure\":1022,\"humidity\":79,\"dew_point\":1.83,\"uvi\":0.04,\"clouds\":100,\"visibility\":10000,\"wind_speed\":5.47,\"wind_deg\":134,\"wind_gust\":10.55,\"weather\":[{\"id\":804,\"main\":\"Clouds\",\"description\":\"overcast clouds\",\"icon\":\"04d\"}],\"pop\":0},{\"dt\":1670079600,\"temp\":5.22,\"feels_like\":1.31,\"pressure\":1022,\"humidity\":80,\"dew_point\":1.86,\"uvi\":0,\"clouds\":100,\"visibility\":10000,\"wind_speed\":5.67,\"wind_deg\":132,\"wind_gust\":10.89,\"weather\":[{\"id\":804,\"main\":\"Clouds\",\"description\":\"overcast clouds\",\"icon\":\"04n\"}],\"pop\":0},{\"dt\":1670083200,\"temp\":5.16,\"feels_like\":1.25,\"pressure\":1022,\"humidity\":80,\"dew_point\":1.93,\"uvi\":0,\"clouds\":100,\"visibility\":10000,\"wind_speed\":5.64,\"wind_deg\":133,\"wind_gust\":11.03,\"weather\":[{\"id\":804,\"main\":\"Clouds\",\"description\":\"overcast clouds\",\"icon\":\"04n\"}],\"pop\":0},{\"dt\":1670086800,\"temp\":5.12,\"feels_like\":1.15,\"pressure\":1022,\"humidity\":81,\"dew_point\":2.03,\"uvi\":0,\"clouds\":100,\"visibility\":10000,\"wind_speed\":5.76,\"wind_deg\":133,\"wind_gust\":11.28,\"weather\":[{\"id\":804,\"main\":\"Clouds\",\"description\":\"overcast clouds\",\"icon\":\"04n\"}],\"pop\":0},{\"dt\":1670090400,\"temp\":5.1,\"feels_like\":1,\"pressure\":1022,\"humidity\":82,\"dew_point\":2.1,\"uvi\":0,\"clouds\":100,\"visibility\":10000,\"wind_speed\":6.06,\"wind_deg\":134,\"wind_gust\":11.92,\"weather\":[{\"id\":804,\"main\":\"Clouds\",\"description\":\"overcast clouds\",\"icon\":\"04n\"}],\"pop\":0}],\"daily\":[{\"dt\":1669888800,\"sunrise\":1669875620,\"sunset\":1669906721,\"moonrise\":1669897020,\"moonset\":0,\"moon_phase\":0.28,\"temp\":{\"day\":5.71,\"min\":1.48,\"max\":6.92,\"night\":1.48,\"eve\":3.24,\"morn\":2.51},\"feels_like\":{\"day\":5.71,\"night\":1.48,\"eve\":1.95,\"morn\":1.06},\"pressure\":1024,\"humidity\":57,\"dew_point\":-2.16,\"wind_speed\":1.82,\"wind_deg\":350,\"wind_gust\":1.77,\"weather\":[{\"id\":803,\"main\":\"Clouds\",\"description\":\"broken clouds\",\"icon\":\"04d\"}],\"clouds\":54,\"pop\":0,\"uvi\":0.78},{\"dt\":1669975200,\"sunrise\":1669962095,\"sunset\":1669993091,\"moonrise\":1669984380,\"moonset\":1669938060,\"moon_phase\":0.31,\"temp\":{\"day\":3.64,\"min\":0.6,\"max\":4.33,\"night\":1.9,\"eve\":2.38,\"morn\":0.62},\"feels_like\":{\"day\":3.64,\"night\":-1.99,\"eve\":0.18,\"morn\":-0.99},\"pressure\":1023,\"humidity\":64,\"dew_point\":-2.56,\"wind_speed\":4.07,\"wind_deg\":122,\"wind_gust\":8.02,\"weather\":[{\"id\":804,\"main\":\"Clouds\",\"description\":\"overcast clouds\",\"icon\":\"04d\"}],\"clouds\":100,\"pop\":0.19,\"uvi\":0.54},{\"dt\":1670061600,\"sunrise\":1670048569,\"sunset\":1670079464,\"moonrise\":1670071740,\"moonset\":1670028960,\"moon_phase\":0.35,\"temp\":{\"day\":4.05,\"min\":2.05,\"max\":5.22,\"night\":4.78,\"eve\":5.16,\"morn\":2.71},\"feels_like\":{\"day\":0.12,\"night\":0.57,\"eve\":1.25,\"morn\":-1.51},\"pressure\":1024,\"humidity\":84,\"dew_point\":1.4,\"wind_speed\":6.24,\"wind_deg\":134,\"wind_gust\":12.87,\"weather\":[{\"id\":804,\"main\":\"Clouds\",\"description\":\"overcast clouds\",\"icon\":\"04d\"}],\"clouds\":100,\"pop\":0,\"uvi\":0.21},{\"dt\":1670148000,\"sunrise\":1670135040,\"sunset\":1670165839,\"moonrise\":1670159100,\"moonset\":1670119800,\"moon_phase\":0.38,\"temp\":{\"day\":6,\"min\":3.26,\"max\":7.19,\"night\":4.12,\"eve\":5.98,\"morn\":4.25},\"feels_like\":{\"day\":1.7,\"night\":0.05,\"eve\":2.03,\"morn\":-0.04},\"pressure\":1021,\"humidity\":76,\"dew_point\":1.9,\"wind_speed\":7.38,\"wind_deg\":136,\"wind_gust\":13.71,\"weather\":[{\"id\":804,\"main\":\"Clouds\",\"description\":\"overcast clouds\",\"icon\":\"04d\"}],\"clouds\":100,\"pop\":0,\"uvi\":0.74},{\"dt\":1670234400,\"sunrise\":1670221510,\"sunset\":1670252218,\"moonrise\":1670246580,\"moonset\":1670210580,\"moon_phase\":0.41,\"temp\":{\"day\":5.07,\"min\":4.24,\"max\":5.61,\"night\":5.31,\"eve\":5.61,\"morn\":4.94},\"feels_like\":{\"day\":0.63,\"night\":4.46,\"eve\":2,\"morn\":0.78},\"pressure\":1020,\"humidity\":90,\"dew_point\":3.44,\"wind_speed\":6.98,\"wind_deg\":120,\"wind_gust\":12.66,\"weather\":[{\"id\":500,\"main\":\"Rain\",\"description\":\"light rain\",\"icon\":\"10d\"}],\"clouds\":100,\"pop\":0.45,\"rain\":0.57,\"uvi\":0.11},{\"dt\":1670320800,\"sunrise\":1670307978,\"sunset\":1670338599,\"moonrise\":1670334300,\"moonset\":1670301360,\"moon_phase\":0.45,\"temp\":{\"day\":5.72,\"min\":3.24,\"max\":6.3,\"night\":3.24,\"eve\":5.99,\"morn\":5.16},\"feels_like\":{\"day\":5.72,\"night\":3.24,\"eve\":5.99,\"morn\":5.16},\"pressure\":1021,\"humidity\":88,\"dew_point\":3.74,\"wind_speed\":0.99,\"wind_deg\":296,\"wind_gust\":1.52,\"weather\":[{\"id\":500,\"main\":\"Rain\",\"description\":\"light rain\",\"icon\":\"10d\"}],\"clouds\":99,\"pop\":0.7,\"rain\":0.82,\"uvi\":0.24},{\"dt\":1670407200,\"sunrise\":1670394444,\"sunset\":1670424983,\"moonrise\":1670422380,\"moonset\":1670392080,\"moon_phase\":0.48,\"temp\":{\"day\":5.1,\"min\":2.01,\"max\":6.54,\"night\":2.01,\"eve\":4.54,\"morn\":3.98},\"feels_like\":{\"day\":4.14,\"night\":-0.02,\"eve\":3.11,\"morn\":2.9},\"pressure\":1020,\"humidity\":79,\"dew_point\":1.72,\"wind_speed\":1.92,\"wind_deg\":97,\"wind_gust\":2.07,\"weather\":[{\"id\":804,\"main\":\"Clouds\",\"description\":\"overcast clouds\",\"icon\":\"04d\"}],\"clouds\":100,\"pop\":0,\"uvi\":1},{\"dt\":1670493600,\"sunrise\":1670480908,\"sunset\":1670511370,\"moonrise\":1670510880,\"moonset\":1670482620,\"moon_phase\":0.5,\"temp\":{\"day\":4.14,\"min\":2.36,\"max\":5.17,\"night\":4.69,\"eve\":4.86,\"morn\":3},\"feels_like\":{\"day\":4.14,\"night\":4.69,\"eve\":4.86,\"morn\":1.36},\"pressure\":1017,\"humidity\":86,\"dew_point\":1.84,\"wind_speed\":1.92,\"wind_deg\":87,\"wind_gust\":3.12,\"weather\":[{\"id\":804,\"main\":\"Clouds\",\"description\":\"overcast clouds\",\"icon\":\"04d\"}],\"clouds\":100,\"pop\":0,\"uvi\":1}]}\n"
     ]
    }
   ],
   "source": [
    "perform_auth()"
   ]
  },
  {
   "cell_type": "code",
   "execution_count": 5,
   "id": "8a2a6a67",
   "metadata": {},
   "outputs": [],
   "source": [
    "def get_weather():\n",
    "    token_url = BASE_URL + _ADD_URL + _GEEOTAG + _GET_API + _GET_UNITS\n",
    "    dt = datetime(2021, 3, 5, 14, 30, 21)\n",
    "    #tme = int(dt.timestamp())\n",
    "    token_url = token_url + \"&exclude=minutely,hourly,daily\"\n",
    "    print (\"Adresa je: \", token_url)\n",
    "    r = requests.get(token_url)\n",
    "    print (r.text)"
   ]
  },
  {
   "cell_type": "code",
   "execution_count": 6,
   "id": "e2fd9bbc",
   "metadata": {},
   "outputs": [
    {
     "name": "stdout",
     "output_type": "stream",
     "text": [
      "Adresa je:  https://api.openweathermap.org/data/3.0/onecall?lat=48.35068075778566&lon=17.411345243453983&appid=93ff8657ac2d8cc5045389f9e34b62a2&units=metric&exclude=minutely,hourly,daily\n",
      "{\"lat\":48.3507,\"lon\":17.4113,\"timezone\":\"Europe/Bratislava\",\"timezone_offset\":3600,\"current\":{\"dt\":1669923907,\"sunrise\":1669875620,\"sunset\":1669906721,\"temp\":1.64,\"feels_like\":0.18,\"pressure\":1023,\"humidity\":75,\"dew_point\":-2.04,\"uvi\":0,\"clouds\":90,\"visibility\":10000,\"wind_speed\":1.46,\"wind_deg\":1,\"wind_gust\":1.42,\"weather\":[{\"id\":804,\"main\":\"Clouds\",\"description\":\"overcast clouds\",\"icon\":\"04n\"}]}}\n"
     ]
    }
   ],
   "source": [
    "get_weather()"
   ]
  },
  {
   "cell_type": "code",
   "execution_count": 7,
   "id": "10975f87",
   "metadata": {},
   "outputs": [
    {
     "name": "stdout",
     "output_type": "stream",
     "text": [
      "2022-11-06 11:04:53\n"
     ]
    }
   ],
   "source": [
    "timestamp = 1667729093\n",
    "dt = datetime.fromtimestamp( timestamp )\n",
    "print( dt )"
   ]
  },
  {
   "cell_type": "code",
   "execution_count": null,
   "id": "618721bf",
   "metadata": {},
   "outputs": [],
   "source": []
  },
  {
   "cell_type": "code",
   "execution_count": null,
   "id": "f593a6ff",
   "metadata": {},
   "outputs": [],
   "source": []
  },
  {
   "cell_type": "code",
   "execution_count": null,
   "id": "0c120e8e",
   "metadata": {},
   "outputs": [],
   "source": []
  },
  {
   "cell_type": "code",
   "execution_count": null,
   "id": "52529c98",
   "metadata": {},
   "outputs": [],
   "source": []
  }
 ],
 "metadata": {
  "kernelspec": {
   "display_name": "Python 3 (ipykernel)",
   "language": "python",
   "name": "python3"
  },
  "language_info": {
   "codemirror_mode": {
    "name": "ipython",
    "version": 3
   },
   "file_extension": ".py",
   "mimetype": "text/x-python",
   "name": "python",
   "nbconvert_exporter": "python",
   "pygments_lexer": "ipython3",
   "version": "3.10.7"
  }
 },
 "nbformat": 4,
 "nbformat_minor": 5
}
