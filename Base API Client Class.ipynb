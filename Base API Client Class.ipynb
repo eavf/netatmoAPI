{
 "cells": [
  {
   "cell_type": "code",
   "execution_count": 1,
   "id": "3204e8b2",
   "metadata": {},
   "outputs": [],
   "source": [
    "from _kluce import *\n",
    "import requests, datetime\n",
    "import pandas as pd\n",
    "import json"
   ]
  },
  {
   "cell_type": "code",
   "execution_count": 2,
   "id": "1fd8d7fd",
   "metadata": {},
   "outputs": [],
   "source": [
    "def getParameter(key, default):\n",
    "    return getenv(key, default[key])\n",
    "\n",
    "# 2 : Override hard coded values with credentials file if any\n",
    "\n",
    "_CLIENT_ID     = client_id\n",
    "_CLIENT_SECRET = secret_id\n",
    "_USERNAME      = login_net\n",
    "_PASSWORD      = passw_net\n",
    "\n",
    "#########################################################################\n",
    "\n",
    "\n",
    "# Common definitions\n",
    "\n",
    "_BASE_URL = \"https://api.netatmo.com/\"\n",
    "_AUTH_REQ              = _BASE_URL + \"oauth2/token\"\n",
    "_GETMEASURE_REQ        = _BASE_URL + \"api/getmeasure\"\n",
    "_GETSTATIONDATA_REQ    = _BASE_URL + \"api/getstationsdata\"\n",
    "_GETTHERMOSTATDATA_REQ = _BASE_URL + \"api/getthermostatsdata\"\n",
    "_GETHOMEDATA_REQ       = _BASE_URL + \"api/homesdata\"\n",
    "_GETCAMERAPICTURE_REQ  = _BASE_URL + \"api/getcamerapicture\"\n",
    "_GETEVENTSUNTIL_REQ    = _BASE_URL + \"api/geteventsuntil\"\n",
    "\n",
    "\n",
    "#TODO# Undocumented (but would be very usefull) API : Access currently forbidden (403)\n",
    "\n",
    "_POST_UPDATE_HOME_REQ  = _BASE_URL + \"/api/updatehome\"\n",
    "\n",
    "# UNITS used by Netatmo services\n",
    "UNITS = {\n",
    "    \"unit\" : {\n",
    "        0: \"metric\",\n",
    "        1: \"imperial\"\n",
    "    },\n",
    "    \"windunit\" : {\n",
    "        0: \"kph\",\n",
    "        1: \"mph\",\n",
    "        2: \"ms\",\n",
    "        3: \"beaufort\",\n",
    "        4: \"knot\"\n",
    "    },\n",
    "    \"pressureunit\" : {\n",
    "        0: \"mbar\",\n",
    "        1: \"inHg\",\n",
    "        2: \"mmHg\"\n",
    "    },\n",
    "    \"thermunit\": {\n",
    "        0: \"celsius\",\n",
    "        1: \"farenheit\"\n",
    "    }\n",
    "}"
   ]
  },
  {
   "cell_type": "code",
   "execution_count": 3,
   "id": "06a0c5e9",
   "metadata": {},
   "outputs": [],
   "source": [
    "class NetatmoAPI(object):\n",
    "    access_token = None\n",
    "    access_token_expires = datetime.datetime.now()\n",
    "    access_token_did_expire = True\n",
    "    refresh_token = None\n",
    "    client_id = None\n",
    "    secret_id = None\n",
    "    login_net = None\n",
    "    passw_net = None\n",
    "    token_url = _AUTH_REQ\n",
    "    \n",
    "    def __init__(self, client_id, secret_id, login_net, passw_net, *args, **kwargs):\n",
    "        super().__init__(*args, **kwargs)\n",
    "        self.client_id = client_id\n",
    "        self.secret_id = secret_id\n",
    "        self.login_net = login_net\n",
    "        self.passw_net = passw_net\n",
    "    \n",
    "    def get_client_credentials(self):\n",
    "        client_id = self.client_id\n",
    "        client_secret = self.secret_id\n",
    "        login_net = self.login_net\n",
    "        passw_net = self.passw_net\n",
    "        if secret_id == None or client_id == None or login_net == None or passw_net == None:\n",
    "            raise Exception(\"You must set client_id and Client_secret!\")\n",
    "        return {\n",
    "            \"client_id\": client_id,\n",
    "            \"client_secret\": secret_id,\n",
    "            \"username\": login_net,\n",
    "            \"password\": passw_net,\n",
    "        }\n",
    "    \n",
    "    def get_token_headers(self):\n",
    "        return {\n",
    "            \"Host\": \"api.netatmo.com\",\n",
    "            \"Content-Type\": \"application/x-www-form-urlencoded;charset=UTF-8\",\n",
    "        }\n",
    "    \n",
    "    def get_token_data(self):\n",
    "        partial_token_data = {\n",
    "            \"grant_type\": \"password\",\n",
    "            \"scope\": \"read_thermostat write_thermostat\"\n",
    "        }\n",
    "        #final_token_dada = self.Merge (self.get_client_credentials(), partial_token_data)\n",
    "        final_token_dada = partial_token_data | self.get_client_credentials()\n",
    "        return final_token_dada\n",
    "        \n",
    "        \n",
    "    def perform_auth(self):\n",
    "        token_url = self.token_url\n",
    "        token_data = self.get_token_data()\n",
    "        print (token_data)\n",
    "        token_headers = self.get_token_headers()\n",
    "        \n",
    "        r = requests.post(token_url, data=token_data, headers = token_headers)\n",
    "        print (r.json())\n",
    "        print (r)\n",
    "\n",
    "        if r.status_code not in range(200, 299):\n",
    "            return False\n",
    "        \n",
    "        data = r.json()\n",
    "        \n",
    "        now = datetime.datetime.now()\n",
    "        access_token = data['access_token']\n",
    "        refresh_token = data['refresh_token']\n",
    "        expires_in = data['expires_in']               # seconds\n",
    "        expires = now + datetime.timedelta(seconds=expires_in)\n",
    "        \n",
    "        self.access_token = access_token\n",
    "        self.refresh_token = refresh_token\n",
    "        self.access_token_expires = expires\n",
    "        self.access_token_did_expire = expires < now    \n",
    "        return True\n",
    "    \n",
    "    def get_auth_data(self):\n",
    "        clientAuth = {\"access_token\": self.access_token,\n",
    "            \"access_token_expires\": self.access_token_expires,\n",
    "            \"access_token_did_expire\": self.access_token_did_expire,\n",
    "            \"refresh_token\": self.refresh_token,\n",
    "            \"client_id\": self.client_id,\n",
    "            \"secret_id\": self.secret_id,\n",
    "            \"login_net\": self.login_net,\n",
    "            \"passw_net\": self.passw_net,\n",
    "            \"token_url\": self.token_url\n",
    "        }\n",
    "        \n",
    "        return clientAuth\n",
    "    "
   ]
  },
  {
   "cell_type": "code",
   "execution_count": 4,
   "id": "25904bc8",
   "metadata": {},
   "outputs": [],
   "source": [
    "client = NetatmoAPI(client_id, secret_id, login_net, passw_net)"
   ]
  },
  {
   "cell_type": "code",
   "execution_count": 5,
   "id": "22a9b089",
   "metadata": {},
   "outputs": [
    {
     "name": "stdout",
     "output_type": "stream",
     "text": [
      "{'grant_type': 'password', 'scope': 'read_thermostat write_thermostat', 'client_id': '6361020b1d6519da7b09b21e', 'client_secret': 'zxQ0Gzy9xtnbqpTJdWRG7h5Hgr2ROIp92Qyeiv90', 'username': 'vlado@eavf.eu', 'password': 'Evulkamoja1'}\n",
      "{'access_token': '58aed8644deddbca2c8b4763|d69db65b2e7a77c8e2ec1199ab59d6ab', 'refresh_token': '58aed8644deddbca2c8b4763|2c8eb3e22dce1ce9b96345f6f2254cb9', 'scope': ['read_thermostat', 'write_thermostat'], 'expires_in': 10800, 'expire_in': 10800}\n",
      "<Response [200]>\n"
     ]
    },
    {
     "data": {
      "text/plain": [
       "True"
      ]
     },
     "execution_count": 5,
     "metadata": {},
     "output_type": "execute_result"
    }
   ],
   "source": [
    "client.perform_auth()\n"
   ]
  },
  {
   "cell_type": "code",
   "execution_count": 6,
   "id": "5d302293",
   "metadata": {},
   "outputs": [
    {
     "data": {
      "text/plain": [
       "datetime.datetime(2022, 12, 4, 0, 56, 48, 676468)"
      ]
     },
     "execution_count": 6,
     "metadata": {},
     "output_type": "execute_result"
    }
   ],
   "source": [
    "client.access_token_expires\n"
   ]
  },
  {
   "cell_type": "code",
   "execution_count": 7,
   "id": "17064bfe",
   "metadata": {},
   "outputs": [
    {
     "data": {
      "text/plain": [
       "'58aed8644deddbca2c8b4763|d69db65b2e7a77c8e2ec1199ab59d6ab'"
      ]
     },
     "execution_count": 7,
     "metadata": {},
     "output_type": "execute_result"
    }
   ],
   "source": [
    "client.access_token"
   ]
  },
  {
   "cell_type": "code",
   "execution_count": 8,
   "id": "872def79",
   "metadata": {},
   "outputs": [
    {
     "data": {
      "text/plain": [
       "'58aed8644deddbca2c8b4763|2c8eb3e22dce1ce9b96345f6f2254cb9'"
      ]
     },
     "execution_count": 8,
     "metadata": {},
     "output_type": "execute_result"
    }
   ],
   "source": [
    "client.refresh_token"
   ]
  },
  {
   "cell_type": "code",
   "execution_count": 9,
   "id": "d12ff6fb",
   "metadata": {},
   "outputs": [
    {
     "data": {
      "text/plain": [
       "{'access_token': '58aed8644deddbca2c8b4763|d69db65b2e7a77c8e2ec1199ab59d6ab',\n",
       " 'access_token_expires': datetime.datetime(2022, 12, 4, 0, 56, 48, 676468),\n",
       " 'access_token_did_expire': False,\n",
       " 'refresh_token': '58aed8644deddbca2c8b4763|2c8eb3e22dce1ce9b96345f6f2254cb9',\n",
       " 'client_id': '6361020b1d6519da7b09b21e',\n",
       " 'secret_id': 'zxQ0Gzy9xtnbqpTJdWRG7h5Hgr2ROIp92Qyeiv90',\n",
       " 'login_net': 'vlado@eavf.eu',\n",
       " 'passw_net': 'Evulkamoja1',\n",
       " 'token_url': 'https://api.netatmo.com/oauth2/token'}"
      ]
     },
     "execution_count": 9,
     "metadata": {},
     "output_type": "execute_result"
    }
   ],
   "source": [
    "client.get_auth_data()"
   ]
  },
  {
   "cell_type": "code",
   "execution_count": 10,
   "id": "93d2068d",
   "metadata": {},
   "outputs": [],
   "source": [
    "def info(token):\n",
    "    token_headers = {\n",
    "            \"accept\": \"application/json\",\n",
    "            \"Authorization\": f\"Bearer {token}\"\n",
    "        }\n",
    "    \n",
    "    token_url = _GETHOMEDATA_REQ\n",
    "    token_data = {\n",
    "        \"access_token\" : token\n",
    "    }\n",
    "    print (token_data['access_token'])\n",
    "    \n",
    "    r = requests.get(\"https://api.netatmo.com/api/homesdata\", headers = token_headers)\n",
    "\n",
    "    print (r.json())\n",
    "    print (r)\n",
    "\n",
    "    if r.status_code not in range(200, 299):\n",
    "        print (\"False\")\n",
    "        return False\n",
    "        \n",
    "    data = r.json()\n",
    "    print(\"True\")\n",
    "    return True\n"
   ]
  },
  {
   "cell_type": "code",
   "execution_count": 11,
   "id": "a3f3a7a4",
   "metadata": {},
   "outputs": [
    {
     "name": "stdout",
     "output_type": "stream",
     "text": [
      "58aed8644deddbca2c8b4763|d69db65b2e7a77c8e2ec1199ab59d6ab\n",
      "{'body': {'homes': [{'id': '59d3da1c7a7570a21d8c1575', 'name': 'EavfBudmerice', 'altitude': 181, 'coordinates': [17.411345243453983, 48.35068075778566], 'country': 'SK', 'timezone': 'Europe/Prague', 'rooms': [{'id': '1773168053', 'name': 'Salle de sejour', 'type': 'livingroom', 'module_ids': ['04:00:00:0b:9f:e2', '09:00:00:00:5f:99']}, {'id': '2957641162', 'name': 'IsabelleaAlice', 'type': 'bedroom', 'module_ids': ['09:00:00:00:a4:1c']}, {'id': '4067357141', 'name': 'Kúpeľňa', 'type': 'bathroom', 'module_ids': ['09:00:00:15:66:23']}, {'id': '1315371675', 'name': 'Vstupná hala', 'type': 'lobby', 'module_ids': ['09:00:00:15:6c:e3']}, {'id': '2726462873', 'name': 'Spálňa', 'type': 'bedroom', 'module_ids': ['09:00:00:15:66:fc']}, {'id': '4244704920', 'name': 'Toaleta poschodie', 'type': 'toilets', 'module_ids': ['09:00:00:15:65:71']}, {'id': '3381423252', 'name': 'Kuchyňa', 'type': 'kitchen', 'module_ids': ['09:00:00:15:6c:46']}, {'id': '3714905920', 'name': 'Chodba', 'type': 'lobby', 'module_ids': ['09:00:00:15:6a:e3']}], 'modules': [{'id': '70:ee:50:0b:d0:b2', 'type': 'NAPlug', 'name': 'WiFi modul', 'setup_date': 1540570208, 'modules_bridged': ['04:00:00:0b:9f:e2', '09:00:00:00:a4:1c', '09:00:00:00:5f:99', '09:00:00:15:66:23', '09:00:00:15:6c:e3', '09:00:00:15:66:fc', '09:00:00:15:65:71', '09:00:00:15:6c:46', '09:00:00:15:6a:e3']}, {'id': '04:00:00:0b:9f:e2', 'type': 'NATherm1', 'name': 'Termostat', 'setup_date': 1540570209, 'room_id': '1773168053', 'bridge': '70:ee:50:0b:d0:b2'}, {'id': '09:00:00:00:a4:1c', 'type': 'NRV', 'name': 'Ventil Isabelle a Alice', 'setup_date': 1540570234, 'room_id': '2957641162', 'bridge': '70:ee:50:0b:d0:b2'}, {'id': '09:00:00:00:5f:99', 'type': 'NRV', 'name': 'Ventil Sejour', 'setup_date': 1540570234, 'room_id': '1773168053', 'bridge': '70:ee:50:0b:d0:b2'}, {'id': '09:00:00:15:66:23', 'type': 'NRV', 'name': 'Ventil Kúpeľňa 1', 'setup_date': 1609324343, 'room_id': '4067357141', 'bridge': '70:ee:50:0b:d0:b2'}, {'id': '09:00:00:15:6c:e3', 'type': 'NRV', 'name': 'Ventil vstupná hala', 'setup_date': 1609338804, 'room_id': '1315371675', 'bridge': '70:ee:50:0b:d0:b2'}, {'id': '09:00:00:15:66:fc', 'type': 'NRV', 'name': 'Ventil Spálňa', 'setup_date': 1609339478, 'room_id': '2726462873', 'bridge': '70:ee:50:0b:d0:b2'}, {'id': '09:00:00:15:65:71', 'type': 'NRV', 'name': 'Ventil Toaleta poschodie', 'setup_date': 1609339770, 'room_id': '4244704920', 'bridge': '70:ee:50:0b:d0:b2'}, {'id': '09:00:00:15:6c:46', 'type': 'NRV', 'name': 'Ventil Kuchyňa', 'setup_date': 1609340319, 'room_id': '3381423252', 'bridge': '70:ee:50:0b:d0:b2'}, {'id': '09:00:00:15:6a:e3', 'type': 'NRV', 'name': 'Ventil chodba hore', 'setup_date': 1609340319, 'room_id': '3714905920', 'bridge': '70:ee:50:0b:d0:b2'}], 'temperature_control_mode': 'heating', 'therm_mode': 'schedule', 'therm_setpoint_default_duration': 60, 'schedules': [{'timetable': [{'zone_id': 1, 'm_offset': 0}, {'zone_id': 2, 'm_offset': 300}, {'zone_id': 4, 'm_offset': 480}, {'zone_id': 0, 'm_offset': 930}, {'zone_id': 2, 'm_offset': 1110}, {'zone_id': 1, 'm_offset': 1215}, {'zone_id': 2, 'm_offset': 1740}, {'zone_id': 4, 'm_offset': 1920}, {'zone_id': 0, 'm_offset': 2370}, {'zone_id': 2, 'm_offset': 2550}, {'zone_id': 1, 'm_offset': 2655}, {'zone_id': 2, 'm_offset': 3180}, {'zone_id': 4, 'm_offset': 3360}, {'zone_id': 0, 'm_offset': 3810}, {'zone_id': 2, 'm_offset': 3990}, {'zone_id': 1, 'm_offset': 4095}, {'zone_id': 6, 'm_offset': 4620}, {'zone_id': 1, 'm_offset': 4665}, {'zone_id': 2, 'm_offset': 4710}, {'zone_id': 4, 'm_offset': 4800}, {'zone_id': 0, 'm_offset': 5040}, {'zone_id': 2, 'm_offset': 5430}, {'zone_id': 1, 'm_offset': 5520}, {'zone_id': 6, 'm_offset': 6060}, {'zone_id': 1, 'm_offset': 6105}, {'zone_id': 2, 'm_offset': 6150}, {'zone_id': 4, 'm_offset': 6240}, {'zone_id': 0, 'm_offset': 6480}, {'zone_id': 2, 'm_offset': 6870}, {'zone_id': 1, 'm_offset': 6960}, {'zone_id': 2, 'm_offset': 7620}, {'zone_id': 4, 'm_offset': 7770}, {'zone_id': 5, 'm_offset': 8115}, {'zone_id': 0, 'm_offset': 8280}, {'zone_id': 5, 'm_offset': 8430}, {'zone_id': 1, 'm_offset': 8610}, {'zone_id': 2, 'm_offset': 9090}, {'zone_id': 4, 'm_offset': 9210}, {'zone_id': 5, 'm_offset': 9555}, {'zone_id': 0, 'm_offset': 9720}, {'zone_id': 5, 'm_offset': 9870}, {'zone_id': 1, 'm_offset': 10050}], 'zones': [{'name': 'Komfort', 'id': 0, 'type': 0, 'rooms_temp': [{'room_id': '1773168053', 'temp': 19}, {'room_id': '2957641162', 'temp': 20.5}, {'room_id': '4067357141', 'temp': 19}, {'room_id': '1315371675', 'temp': 17}, {'room_id': '2726462873', 'temp': 20.5}, {'room_id': '4244704920', 'temp': 19}, {'room_id': '3381423252', 'temp': 19}, {'room_id': '3714905920', 'temp': 20.5}], 'rooms': [{'id': '1773168053', 'therm_setpoint_temperature': 19}, {'id': '2957641162', 'therm_setpoint_temperature': 20.5}, {'id': '4067357141', 'therm_setpoint_temperature': 19}, {'id': '1315371675', 'therm_setpoint_temperature': 17}, {'id': '2726462873', 'therm_setpoint_temperature': 20.5}, {'id': '4244704920', 'therm_setpoint_temperature': 19}, {'id': '3381423252', 'therm_setpoint_temperature': 19}, {'id': '3714905920', 'therm_setpoint_temperature': 20.5}]}, {'name': 'Noc', 'id': 1, 'type': 1, 'rooms_temp': [{'room_id': '2957641162', 'temp': 17}, {'room_id': '1773168053', 'temp': 16.5}, {'room_id': '4067357141', 'temp': 16}, {'room_id': '1315371675', 'temp': 15}, {'room_id': '2726462873', 'temp': 17}, {'room_id': '4244704920', 'temp': 16}, {'room_id': '3381423252', 'temp': 16}, {'room_id': '3714905920', 'temp': 15}], 'rooms': [{'id': '2957641162', 'therm_setpoint_temperature': 17}, {'id': '1773168053', 'therm_setpoint_temperature': 16.5}, {'id': '4067357141', 'therm_setpoint_temperature': 16}, {'id': '1315371675', 'therm_setpoint_temperature': 15}, {'id': '2726462873', 'therm_setpoint_temperature': 17}, {'id': '4244704920', 'therm_setpoint_temperature': 16}, {'id': '3381423252', 'therm_setpoint_temperature': 16}, {'id': '3714905920', 'therm_setpoint_temperature': 15}]}, {'name': 'Isa', 'id': 2, 'type': 4, 'rooms_temp': [{'room_id': '1773168053', 'temp': 20.5}, {'room_id': '2957641162', 'temp': 21}, {'room_id': '4067357141', 'temp': 16.5}, {'room_id': '1315371675', 'temp': 16.5}, {'room_id': '2726462873', 'temp': 21}, {'room_id': '4244704920', 'temp': 16.5}, {'room_id': '3381423252', 'temp': 18}, {'room_id': '3714905920', 'temp': 21}], 'rooms': [{'id': '1773168053', 'therm_setpoint_temperature': 20.5}, {'id': '2957641162', 'therm_setpoint_temperature': 21}, {'id': '4067357141', 'therm_setpoint_temperature': 16.5}, {'id': '1315371675', 'therm_setpoint_temperature': 16.5}, {'id': '2726462873', 'therm_setpoint_temperature': 21}, {'id': '4244704920', 'therm_setpoint_temperature': 16.5}, {'id': '3381423252', 'therm_setpoint_temperature': 18}, {'id': '3714905920', 'therm_setpoint_temperature': 21}]}, {'name': 'Komfort+', 'id': 3, 'type': 8, 'rooms_temp': [{'room_id': '1773168053', 'temp': 19.5}, {'room_id': '2957641162', 'temp': 21}, {'room_id': '4067357141', 'temp': 21}, {'room_id': '1315371675', 'temp': 17}, {'room_id': '2726462873', 'temp': 21}, {'room_id': '4244704920', 'temp': 21}, {'room_id': '3381423252', 'temp': 19}, {'room_id': '3714905920', 'temp': 21}], 'rooms': [{'id': '1773168053', 'therm_setpoint_temperature': 19.5}, {'id': '2957641162', 'therm_setpoint_temperature': 21}, {'id': '4067357141', 'therm_setpoint_temperature': 21}, {'id': '1315371675', 'therm_setpoint_temperature': 17}, {'id': '2726462873', 'therm_setpoint_temperature': 21}, {'id': '4244704920', 'therm_setpoint_temperature': 21}, {'id': '3381423252', 'therm_setpoint_temperature': 19}, {'id': '3714905920', 'therm_setpoint_temperature': 21}]}, {'name': 'Eko', 'id': 4, 'type': 5, 'rooms_temp': [{'room_id': '1773168053', 'temp': 18}, {'room_id': '2957641162', 'temp': 19}, {'room_id': '4067357141', 'temp': 16}, {'room_id': '1315371675', 'temp': 16}, {'room_id': '2726462873', 'temp': 19}, {'room_id': '4244704920', 'temp': 16}, {'room_id': '3381423252', 'temp': 16}, {'room_id': '3714905920', 'temp': 19}], 'rooms': [{'id': '1773168053', 'therm_setpoint_temperature': 18}, {'id': '2957641162', 'therm_setpoint_temperature': 19}, {'id': '4067357141', 'therm_setpoint_temperature': 16}, {'id': '1315371675', 'therm_setpoint_temperature': 16}, {'id': '2726462873', 'therm_setpoint_temperature': 19}, {'id': '4244704920', 'therm_setpoint_temperature': 16}, {'id': '3381423252', 'therm_setpoint_temperature': 16}, {'id': '3714905920', 'therm_setpoint_temperature': 19}]}, {'name': 'TV', 'id': 5, 'type': 4, 'rooms_temp': [{'room_id': '1773168053', 'temp': 20}, {'room_id': '2957641162', 'temp': 20}, {'room_id': '4067357141', 'temp': 16.5}, {'room_id': '1315371675', 'temp': 16.5}, {'room_id': '2726462873', 'temp': 20}, {'room_id': '4244704920', 'temp': 16.5}, {'room_id': '3381423252', 'temp': 18}, {'room_id': '3714905920', 'temp': 20}], 'rooms': [{'id': '1773168053', 'therm_setpoint_temperature': 20}, {'id': '2957641162', 'therm_setpoint_temperature': 20}, {'id': '4067357141', 'therm_setpoint_temperature': 16.5}, {'id': '1315371675', 'therm_setpoint_temperature': 16.5}, {'id': '2726462873', 'therm_setpoint_temperature': 20}, {'id': '4244704920', 'therm_setpoint_temperature': 16.5}, {'id': '3381423252', 'therm_setpoint_temperature': 18}, {'id': '3714905920', 'therm_setpoint_temperature': 20}]}, {'name': 'Viliam', 'id': 6, 'type': 4, 'rooms_temp': [{'room_id': '1773168053', 'temp': 20}, {'room_id': '2957641162', 'temp': 19}, {'room_id': '4067357141', 'temp': 16.5}, {'room_id': '1315371675', 'temp': 16.5}, {'room_id': '2726462873', 'temp': 19}, {'room_id': '4244704920', 'temp': 16.5}, {'room_id': '3381423252', 'temp': 18}, {'room_id': '3714905920', 'temp': 19}], 'rooms': [{'id': '1773168053', 'therm_setpoint_temperature': 20}, {'id': '2957641162', 'therm_setpoint_temperature': 19}, {'id': '4067357141', 'therm_setpoint_temperature': 16.5}, {'id': '1315371675', 'therm_setpoint_temperature': 16.5}, {'id': '2726462873', 'therm_setpoint_temperature': 19}, {'id': '4244704920', 'therm_setpoint_temperature': 16.5}, {'id': '3381423252', 'therm_setpoint_temperature': 18}, {'id': '3714905920', 'therm_setpoint_temperature': 19}]}], 'name': 'Lepsi', 'default': False, 'away_temp': 12, 'hg_temp': 7, 'id': '59d3dc8bf75853d5188b8aeb', 'type': 'therm'}, {'timetable': [{'zone_id': 4, 'm_offset': 0}], 'zones': [{'name': 'Komfort', 'id': 0, 'type': 0, 'rooms_temp': [{'room_id': '1773168053', 'temp': 19}, {'room_id': '2957641162', 'temp': 17}, {'room_id': '4067357141', 'temp': 19}, {'room_id': '1315371675', 'temp': 17}, {'room_id': '2726462873', 'temp': 17}, {'room_id': '4244704920', 'temp': 19}, {'room_id': '3381423252', 'temp': 19}, {'room_id': '3714905920', 'temp': 17}], 'rooms': [{'id': '1773168053', 'therm_setpoint_temperature': 19}, {'id': '2957641162', 'therm_setpoint_temperature': 17}, {'id': '4067357141', 'therm_setpoint_temperature': 19}, {'id': '1315371675', 'therm_setpoint_temperature': 17}, {'id': '2726462873', 'therm_setpoint_temperature': 17}, {'id': '4244704920', 'therm_setpoint_temperature': 19}, {'id': '3381423252', 'therm_setpoint_temperature': 19}, {'id': '3714905920', 'therm_setpoint_temperature': 17}]}, {'name': 'Noc', 'id': 1, 'type': 1, 'rooms_temp': [{'room_id': '1773168053', 'temp': 16}, {'room_id': '2957641162', 'temp': 17}, {'room_id': '4067357141', 'temp': 16}, {'room_id': '1315371675', 'temp': 16}, {'room_id': '2726462873', 'temp': 17}, {'room_id': '4244704920', 'temp': 16}, {'room_id': '3381423252', 'temp': 16}, {'room_id': '3714905920', 'temp': 17}], 'rooms': [{'id': '1773168053', 'therm_setpoint_temperature': 16}, {'id': '2957641162', 'therm_setpoint_temperature': 17}, {'id': '4067357141', 'therm_setpoint_temperature': 16}, {'id': '1315371675', 'therm_setpoint_temperature': 16}, {'id': '2726462873', 'therm_setpoint_temperature': 17}, {'id': '4244704920', 'therm_setpoint_temperature': 16}, {'id': '3381423252', 'therm_setpoint_temperature': 16}, {'id': '3714905920', 'therm_setpoint_temperature': 17}]}, {'name': 'Komfort+', 'id': 3, 'type': 8, 'rooms_temp': [{'room_id': '1773168053', 'temp': 19}, {'room_id': '2957641162', 'temp': 17}, {'room_id': '4067357141', 'temp': 21}, {'room_id': '1315371675', 'temp': 17}, {'room_id': '2726462873', 'temp': 17}, {'room_id': '4244704920', 'temp': 21}, {'room_id': '3381423252', 'temp': 19}, {'room_id': '3714905920', 'temp': 17}], 'rooms': [{'id': '1773168053', 'therm_setpoint_temperature': 19}, {'id': '2957641162', 'therm_setpoint_temperature': 17}, {'id': '4067357141', 'therm_setpoint_temperature': 21}, {'id': '1315371675', 'therm_setpoint_temperature': 17}, {'id': '2726462873', 'therm_setpoint_temperature': 17}, {'id': '4244704920', 'therm_setpoint_temperature': 21}, {'id': '3381423252', 'therm_setpoint_temperature': 19}, {'id': '3714905920', 'therm_setpoint_temperature': 17}]}, {'name': 'Eko', 'id': 4, 'type': 5, 'rooms_temp': [{'room_id': '1773168053', 'temp': 16}, {'room_id': '2957641162', 'temp': 16}, {'room_id': '4067357141', 'temp': 16}, {'room_id': '1315371675', 'temp': 16}, {'room_id': '2726462873', 'temp': 16}, {'room_id': '4244704920', 'temp': 16}, {'room_id': '3381423252', 'temp': 16}, {'room_id': '3714905920', 'temp': 16}], 'rooms': [{'id': '1773168053', 'therm_setpoint_temperature': 16}, {'id': '2957641162', 'therm_setpoint_temperature': 16}, {'id': '4067357141', 'therm_setpoint_temperature': 16}, {'id': '1315371675', 'therm_setpoint_temperature': 16}, {'id': '2726462873', 'therm_setpoint_temperature': 16}, {'id': '4244704920', 'therm_setpoint_temperature': 16}, {'id': '3381423252', 'therm_setpoint_temperature': 16}, {'id': '3714905920', 'therm_setpoint_temperature': 16}]}], 'name': 'mimo', 'default': False, 'away_temp': 12, 'hg_temp': 7, 'id': '5a4b44eaae4763d5c78b4717', 'selected': True, 'type': 'therm'}, {'timetable': [{'zone_id': 1, 'm_offset': 0}, {'zone_id': 2, 'm_offset': 330}, {'zone_id': 1, 'm_offset': 390}, {'zone_id': 5, 'm_offset': 420}, {'zone_id': 0, 'm_offset': 480}, {'zone_id': 7, 'm_offset': 720}, {'zone_id': 0, 'm_offset': 780}, {'zone_id': 7, 'm_offset': 1020}, {'zone_id': 5, 'm_offset': 1110}, {'zone_id': 2, 'm_offset': 1200}, {'zone_id': 1, 'm_offset': 1290}, {'zone_id': 2, 'm_offset': 1710}, {'zone_id': 3, 'm_offset': 1830}, {'zone_id': 0, 'm_offset': 1890}, {'zone_id': 3, 'm_offset': 2520}, {'zone_id': 2, 'm_offset': 2580}, {'zone_id': 1, 'm_offset': 2700}, {'zone_id': 2, 'm_offset': 3210}, {'zone_id': 3, 'm_offset': 3270}, {'zone_id': 0, 'm_offset': 3330}, {'zone_id': 3, 'm_offset': 3960}, {'zone_id': 2, 'm_offset': 4020}, {'zone_id': 1, 'm_offset': 4260}, {'zone_id': 3, 'm_offset': 4740}, {'zone_id': 0, 'm_offset': 4770}, {'zone_id': 3, 'm_offset': 5400}, {'zone_id': 2, 'm_offset': 5535}, {'zone_id': 1, 'm_offset': 5700}, {'zone_id': 2, 'm_offset': 6135}, {'zone_id': 3, 'm_offset': 6195}, {'zone_id': 4, 'm_offset': 6210}, {'zone_id': 3, 'm_offset': 6870}, {'zone_id': 2, 'm_offset': 7005}, {'zone_id': 1, 'm_offset': 7065}, {'zone_id': 3, 'm_offset': 7620}, {'zone_id': 4, 'm_offset': 7650}, {'zone_id': 3, 'm_offset': 8310}, {'zone_id': 2, 'm_offset': 8445}, {'zone_id': 1, 'm_offset': 8505}, {'zone_id': 3, 'm_offset': 9060}, {'zone_id': 2, 'm_offset': 9855}, {'zone_id': 1, 'm_offset': 9975}], 'zones': [{'name': 'Komfort', 'id': 0, 'type': 0, 'rooms_temp': [{'room_id': '1773168053', 'temp': 19}, {'room_id': '2957641162', 'temp': 20}, {'room_id': '4067357141', 'temp': 19.5}, {'room_id': '1315371675', 'temp': 19}, {'room_id': '2726462873', 'temp': 18}, {'room_id': '4244704920', 'temp': 21}, {'room_id': '3381423252', 'temp': 19}, {'room_id': '3714905920', 'temp': 19}], 'rooms': [{'id': '1773168053', 'therm_setpoint_temperature': 19}, {'id': '2957641162', 'therm_setpoint_temperature': 20}, {'id': '4067357141', 'therm_setpoint_temperature': 19.5}, {'id': '1315371675', 'therm_setpoint_temperature': 19}, {'id': '2726462873', 'therm_setpoint_temperature': 18}, {'id': '4244704920', 'therm_setpoint_temperature': 21}, {'id': '3381423252', 'therm_setpoint_temperature': 19}, {'id': '3714905920', 'therm_setpoint_temperature': 19}]}, {'name': 'Noc', 'id': 1, 'type': 1, 'rooms_temp': [{'room_id': '1773168053', 'temp': 16}, {'room_id': '2957641162', 'temp': 17}, {'room_id': '4067357141', 'temp': 16}, {'room_id': '1315371675', 'temp': 16}, {'room_id': '2726462873', 'temp': 17}, {'room_id': '4244704920', 'temp': 19}, {'room_id': '3381423252', 'temp': 16}, {'room_id': '3714905920', 'temp': 16}], 'rooms': [{'id': '1773168053', 'therm_setpoint_temperature': 16}, {'id': '2957641162', 'therm_setpoint_temperature': 17}, {'id': '4067357141', 'therm_setpoint_temperature': 16}, {'id': '1315371675', 'therm_setpoint_temperature': 16}, {'id': '2726462873', 'therm_setpoint_temperature': 17}, {'id': '4244704920', 'therm_setpoint_temperature': 19}, {'id': '3381423252', 'therm_setpoint_temperature': 16}, {'id': '3714905920', 'therm_setpoint_temperature': 16}]}, {'name': 'Hygiena E', 'id': 2, 'type': 4, 'rooms_temp': [{'room_id': '1315371675', 'temp': 18.5}, {'room_id': '1773168053', 'temp': 19}, {'room_id': '2726462873', 'temp': 20.5}, {'room_id': '2957641162', 'temp': 19}, {'room_id': '3381423252', 'temp': 20.5}, {'room_id': '3714905920', 'temp': 19}, {'room_id': '4067357141', 'temp': 26}, {'room_id': '4244704920', 'temp': 20}], 'rooms': [{'id': '1315371675', 'therm_setpoint_temperature': 18.5}, {'id': '1773168053', 'therm_setpoint_temperature': 19}, {'id': '2726462873', 'therm_setpoint_temperature': 20.5}, {'id': '2957641162', 'therm_setpoint_temperature': 19}, {'id': '3381423252', 'therm_setpoint_temperature': 20.5}, {'id': '3714905920', 'therm_setpoint_temperature': 19}, {'id': '4067357141', 'therm_setpoint_temperature': 26}, {'id': '4244704920', 'therm_setpoint_temperature': 20}]}, {'name': 'Komfort+', 'id': 3, 'type': 8, 'rooms_temp': [{'room_id': '1773168053', 'temp': 20}, {'room_id': '2957641162', 'temp': 21}, {'room_id': '4067357141', 'temp': 21}, {'room_id': '1315371675', 'temp': 18}, {'room_id': '2726462873', 'temp': 17}, {'room_id': '4244704920', 'temp': 21}, {'room_id': '3381423252', 'temp': 21.5}, {'room_id': '3714905920', 'temp': 20}], 'rooms': [{'id': '1773168053', 'therm_setpoint_temperature': 20}, {'id': '2957641162', 'therm_setpoint_temperature': 21}, {'id': '4067357141', 'therm_setpoint_temperature': 21}, {'id': '1315371675', 'therm_setpoint_temperature': 18}, {'id': '2726462873', 'therm_setpoint_temperature': 17}, {'id': '4244704920', 'therm_setpoint_temperature': 21}, {'id': '3381423252', 'therm_setpoint_temperature': 21.5}, {'id': '3714905920', 'therm_setpoint_temperature': 20}]}, {'name': 'Eko', 'id': 4, 'type': 5, 'rooms_temp': [{'room_id': '1773168053', 'temp': 16}, {'room_id': '2957641162', 'temp': 16}, {'room_id': '4067357141', 'temp': 16}, {'room_id': '1315371675', 'temp': 16}, {'room_id': '2726462873', 'temp': 16}, {'room_id': '4244704920', 'temp': 16}, {'room_id': '3381423252', 'temp': 16}, {'room_id': '3714905920', 'temp': 16}], 'rooms': [{'id': '1773168053', 'therm_setpoint_temperature': 16}, {'id': '2957641162', 'therm_setpoint_temperature': 16}, {'id': '4067357141', 'therm_setpoint_temperature': 16}, {'id': '1315371675', 'therm_setpoint_temperature': 16}, {'id': '2726462873', 'therm_setpoint_temperature': 16}, {'id': '4244704920', 'therm_setpoint_temperature': 16}, {'id': '3381423252', 'therm_setpoint_temperature': 16}, {'id': '3714905920', 'therm_setpoint_temperature': 16}]}, {'name': 'Hygiena D', 'id': 5, 'type': 4, 'rooms_temp': [{'room_id': '1315371675', 'temp': 19.5}, {'room_id': '1773168053', 'temp': 19}, {'room_id': '2726462873', 'temp': 19}, {'room_id': '2957641162', 'temp': 20.5}, {'room_id': '3381423252', 'temp': 19}, {'room_id': '3714905920', 'temp': 19.5}, {'room_id': '4067357141', 'temp': 23}, {'room_id': '4244704920', 'temp': 20}], 'rooms': [{'id': '1315371675', 'therm_setpoint_temperature': 19.5}, {'id': '1773168053', 'therm_setpoint_temperature': 19}, {'id': '2726462873', 'therm_setpoint_temperature': 19}, {'id': '2957641162', 'therm_setpoint_temperature': 20.5}, {'id': '3381423252', 'therm_setpoint_temperature': 19}, {'id': '3714905920', 'therm_setpoint_temperature': 19.5}, {'id': '4067357141', 'therm_setpoint_temperature': 23}, {'id': '4244704920', 'therm_setpoint_temperature': 20}]}, {'name': 'Škola', 'id': 6, 'type': 4, 'rooms_temp': [{'room_id': '1315371675', 'temp': 19}, {'room_id': '1773168053', 'temp': 19}, {'room_id': '2726462873', 'temp': 19}, {'room_id': '2957641162', 'temp': 20}, {'room_id': '3381423252', 'temp': 19.5}, {'room_id': '3714905920', 'temp': 19}, {'room_id': '4067357141', 'temp': 19}, {'room_id': '4244704920', 'temp': 19}], 'rooms': [{'id': '1315371675', 'therm_setpoint_temperature': 19}, {'id': '1773168053', 'therm_setpoint_temperature': 19}, {'id': '2726462873', 'therm_setpoint_temperature': 19}, {'id': '2957641162', 'therm_setpoint_temperature': 20}, {'id': '3381423252', 'therm_setpoint_temperature': 19.5}, {'id': '3714905920', 'therm_setpoint_temperature': 19}, {'id': '4067357141', 'therm_setpoint_temperature': 19}, {'id': '4244704920', 'therm_setpoint_temperature': 19}]}, {'name': 'Strava', 'id': 7, 'type': 4, 'rooms_temp': [{'room_id': '1315371675', 'temp': 19.5}, {'room_id': '1773168053', 'temp': 19}, {'room_id': '2726462873', 'temp': 19}, {'room_id': '2957641162', 'temp': 19}, {'room_id': '3381423252', 'temp': 20.5}, {'room_id': '3714905920', 'temp': 19}, {'room_id': '4067357141', 'temp': 19}, {'room_id': '4244704920', 'temp': 19}], 'rooms': [{'id': '1315371675', 'therm_setpoint_temperature': 19.5}, {'id': '1773168053', 'therm_setpoint_temperature': 19}, {'id': '2726462873', 'therm_setpoint_temperature': 19}, {'id': '2957641162', 'therm_setpoint_temperature': 19}, {'id': '3381423252', 'therm_setpoint_temperature': 20.5}, {'id': '3714905920', 'therm_setpoint_temperature': 19}, {'id': '4067357141', 'therm_setpoint_temperature': 19}, {'id': '4244704920', 'therm_setpoint_temperature': 19}]}], 'name': 'Komplex', 'default': False, 'away_temp': 12, 'hg_temp': 7, 'id': '6003feb30131666f85281326', 'type': 'therm'}, {'timetable': [{'zone_id': 1, 'm_offset': 0}, {'zone_id': 3, 'm_offset': 330}, {'zone_id': 1, 'm_offset': 390}, {'zone_id': 5, 'm_offset': 420}, {'zone_id': 4, 'm_offset': 480}, {'zone_id': 7, 'm_offset': 705}, {'zone_id': 0, 'm_offset': 780}, {'zone_id': 7, 'm_offset': 1020}, {'zone_id': 5, 'm_offset': 1110}, {'zone_id': 2, 'm_offset': 1200}, {'zone_id': 1, 'm_offset': 1290}, {'zone_id': 3, 'm_offset': 1770}, {'zone_id': 1, 'm_offset': 1830}, {'zone_id': 5, 'm_offset': 1860}, {'zone_id': 4, 'm_offset': 1920}, {'zone_id': 7, 'm_offset': 2145}, {'zone_id': 0, 'm_offset': 2220}, {'zone_id': 7, 'm_offset': 2460}, {'zone_id': 5, 'm_offset': 2550}, {'zone_id': 2, 'm_offset': 2640}, {'zone_id': 1, 'm_offset': 2730}, {'zone_id': 3, 'm_offset': 3210}, {'zone_id': 1, 'm_offset': 3270}, {'zone_id': 5, 'm_offset': 3300}, {'zone_id': 4, 'm_offset': 3360}, {'zone_id': 7, 'm_offset': 3585}, {'zone_id': 0, 'm_offset': 3660}, {'zone_id': 7, 'm_offset': 3900}, {'zone_id': 5, 'm_offset': 3990}, {'zone_id': 3, 'm_offset': 4080}, {'zone_id': 2, 'm_offset': 4110}, {'zone_id': 1, 'm_offset': 4200}, {'zone_id': 2, 'm_offset': 4725}, {'zone_id': 5, 'm_offset': 4740}, {'zone_id': 4, 'm_offset': 4800}, {'zone_id': 7, 'm_offset': 5025}, {'zone_id': 0, 'm_offset': 5100}, {'zone_id': 7, 'm_offset': 5340}, {'zone_id': 5, 'm_offset': 5430}, {'zone_id': 3, 'm_offset': 5520}, {'zone_id': 2, 'm_offset': 5550}, {'zone_id': 1, 'm_offset': 5640}, {'zone_id': 2, 'm_offset': 6165}, {'zone_id': 5, 'm_offset': 6180}, {'zone_id': 4, 'm_offset': 6240}, {'zone_id': 7, 'm_offset': 6465}, {'zone_id': 0, 'm_offset': 6540}, {'zone_id': 7, 'm_offset': 6780}, {'zone_id': 3, 'm_offset': 6870}, {'zone_id': 5, 'm_offset': 7005}, {'zone_id': 3, 'm_offset': 7050}, {'zone_id': 2, 'm_offset': 7080}, {'zone_id': 1, 'm_offset': 7170}, {'zone_id': 8, 'm_offset': 7650}, {'zone_id': 4, 'm_offset': 7710}, {'zone_id': 7, 'm_offset': 7905}, {'zone_id': 0, 'm_offset': 7980}, {'zone_id': 7, 'm_offset': 8220}, {'zone_id': 3, 'm_offset': 8310}, {'zone_id': 5, 'm_offset': 8445}, {'zone_id': 3, 'm_offset': 8490}, {'zone_id': 2, 'm_offset': 8520}, {'zone_id': 1, 'm_offset': 8580}, {'zone_id': 8, 'm_offset': 9090}, {'zone_id': 4, 'm_offset': 9150}, {'zone_id': 7, 'm_offset': 9345}, {'zone_id': 3, 'm_offset': 9420}, {'zone_id': 7, 'm_offset': 9660}, {'zone_id': 5, 'm_offset': 9750}, {'zone_id': 2, 'm_offset': 9840}, {'zone_id': 1, 'm_offset': 9930}], 'zones': [{'name': 'Komfort', 'id': 0, 'type': 0, 'rooms_temp': [{'room_id': '1773168053', 'temp': 19.5}, {'room_id': '2957641162', 'temp': 17.5}, {'room_id': '4067357141', 'temp': 19.5}, {'room_id': '1315371675', 'temp': 19.5}, {'room_id': '2726462873', 'temp': 17.5}, {'room_id': '4244704920', 'temp': 19.5}, {'room_id': '3381423252', 'temp': 19.5}, {'room_id': '3714905920', 'temp': 19.5}], 'rooms': [{'id': '1773168053', 'therm_setpoint_temperature': 19.5}, {'id': '2957641162', 'therm_setpoint_temperature': 17.5}, {'id': '4067357141', 'therm_setpoint_temperature': 19.5}, {'id': '1315371675', 'therm_setpoint_temperature': 19.5}, {'id': '2726462873', 'therm_setpoint_temperature': 17.5}, {'id': '4244704920', 'therm_setpoint_temperature': 19.5}, {'id': '3381423252', 'therm_setpoint_temperature': 19.5}, {'id': '3714905920', 'therm_setpoint_temperature': 19.5}]}, {'name': 'Noc', 'id': 1, 'type': 1, 'rooms_temp': [{'room_id': '1773168053', 'temp': 16}, {'room_id': '2957641162', 'temp': 17}, {'room_id': '4067357141', 'temp': 16}, {'room_id': '1315371675', 'temp': 16}, {'room_id': '2726462873', 'temp': 17}, {'room_id': '4244704920', 'temp': 16}, {'room_id': '3381423252', 'temp': 16}, {'room_id': '3714905920', 'temp': 16}], 'rooms': [{'id': '1773168053', 'therm_setpoint_temperature': 16}, {'id': '2957641162', 'therm_setpoint_temperature': 17}, {'id': '4067357141', 'therm_setpoint_temperature': 16}, {'id': '1315371675', 'therm_setpoint_temperature': 16}, {'id': '2726462873', 'therm_setpoint_temperature': 17}, {'id': '4244704920', 'therm_setpoint_temperature': 16}, {'id': '3381423252', 'therm_setpoint_temperature': 16}, {'id': '3714905920', 'therm_setpoint_temperature': 16}]}, {'name': 'Hygiena E', 'id': 2, 'type': 4, 'rooms_temp': [{'room_id': '1315371675', 'temp': 19.5}, {'room_id': '1773168053', 'temp': 19}, {'room_id': '2726462873', 'temp': 20.5}, {'room_id': '2957641162', 'temp': 19}, {'room_id': '3381423252', 'temp': 20.5}, {'room_id': '3714905920', 'temp': 19.5}, {'room_id': '4067357141', 'temp': 25}, {'room_id': '4244704920', 'temp': 20.5}], 'rooms': [{'id': '1315371675', 'therm_setpoint_temperature': 19.5}, {'id': '1773168053', 'therm_setpoint_temperature': 19}, {'id': '2726462873', 'therm_setpoint_temperature': 20.5}, {'id': '2957641162', 'therm_setpoint_temperature': 19}, {'id': '3381423252', 'therm_setpoint_temperature': 20.5}, {'id': '3714905920', 'therm_setpoint_temperature': 19.5}, {'id': '4067357141', 'therm_setpoint_temperature': 25}, {'id': '4244704920', 'therm_setpoint_temperature': 20.5}]}, {'name': 'Komfort+', 'id': 3, 'type': 8, 'rooms_temp': [{'room_id': '1773168053', 'temp': 20.5}, {'room_id': '2957641162', 'temp': 20}, {'room_id': '4067357141', 'temp': 23}, {'room_id': '1315371675', 'temp': 19.5}, {'room_id': '2726462873', 'temp': 19}, {'room_id': '4244704920', 'temp': 21}, {'room_id': '3381423252', 'temp': 20}, {'room_id': '3714905920', 'temp': 19.5}], 'rooms': [{'id': '1773168053', 'therm_setpoint_temperature': 20.5}, {'id': '2957641162', 'therm_setpoint_temperature': 20}, {'id': '4067357141', 'therm_setpoint_temperature': 23}, {'id': '1315371675', 'therm_setpoint_temperature': 19.5}, {'id': '2726462873', 'therm_setpoint_temperature': 19}, {'id': '4244704920', 'therm_setpoint_temperature': 21}, {'id': '3381423252', 'therm_setpoint_temperature': 20}, {'id': '3714905920', 'therm_setpoint_temperature': 19.5}]}, {'name': 'Eko', 'id': 4, 'type': 5, 'rooms_temp': [{'room_id': '1773168053', 'temp': 19.5}, {'room_id': '2957641162', 'temp': 19.5}, {'room_id': '4067357141', 'temp': 19.5}, {'room_id': '1315371675', 'temp': 19.5}, {'room_id': '2726462873', 'temp': 18}, {'room_id': '4244704920', 'temp': 18}, {'room_id': '3381423252', 'temp': 19.5}, {'room_id': '3714905920', 'temp': 19}], 'rooms': [{'id': '1773168053', 'therm_setpoint_temperature': 19.5}, {'id': '2957641162', 'therm_setpoint_temperature': 19.5}, {'id': '4067357141', 'therm_setpoint_temperature': 19.5}, {'id': '1315371675', 'therm_setpoint_temperature': 19.5}, {'id': '2726462873', 'therm_setpoint_temperature': 18}, {'id': '4244704920', 'therm_setpoint_temperature': 18}, {'id': '3381423252', 'therm_setpoint_temperature': 19.5}, {'id': '3714905920', 'therm_setpoint_temperature': 19}]}, {'name': 'Hygiena D', 'id': 5, 'type': 4, 'rooms_temp': [{'room_id': '1315371675', 'temp': 19.5}, {'room_id': '1773168053', 'temp': 19}, {'room_id': '2726462873', 'temp': 19}, {'room_id': '2957641162', 'temp': 20.5}, {'room_id': '3381423252', 'temp': 20.5}, {'room_id': '3714905920', 'temp': 19.5}, {'room_id': '4067357141', 'temp': 22.5}, {'room_id': '4244704920', 'temp': 20}], 'rooms': [{'id': '1315371675', 'therm_setpoint_temperature': 19.5}, {'id': '1773168053', 'therm_setpoint_temperature': 19}, {'id': '2726462873', 'therm_setpoint_temperature': 19}, {'id': '2957641162', 'therm_setpoint_temperature': 20.5}, {'id': '3381423252', 'therm_setpoint_temperature': 20.5}, {'id': '3714905920', 'therm_setpoint_temperature': 19.5}, {'id': '4067357141', 'therm_setpoint_temperature': 22.5}, {'id': '4244704920', 'therm_setpoint_temperature': 20}]}, {'name': 'Škola', 'id': 6, 'type': 4, 'rooms_temp': [{'room_id': '1315371675', 'temp': 19.5}, {'room_id': '1773168053', 'temp': 19}, {'room_id': '2726462873', 'temp': 19}, {'room_id': '2957641162', 'temp': 20}, {'room_id': '3381423252', 'temp': 19.5}, {'room_id': '3714905920', 'temp': 19}, {'room_id': '4067357141', 'temp': 19}, {'room_id': '4244704920', 'temp': 19}], 'rooms': [{'id': '1315371675', 'therm_setpoint_temperature': 19.5}, {'id': '1773168053', 'therm_setpoint_temperature': 19}, {'id': '2726462873', 'therm_setpoint_temperature': 19}, {'id': '2957641162', 'therm_setpoint_temperature': 20}, {'id': '3381423252', 'therm_setpoint_temperature': 19.5}, {'id': '3714905920', 'therm_setpoint_temperature': 19}, {'id': '4067357141', 'therm_setpoint_temperature': 19}, {'id': '4244704920', 'therm_setpoint_temperature': 19}]}, {'name': 'Strava', 'id': 7, 'type': 4, 'rooms_temp': [{'room_id': '1315371675', 'temp': 19.5}, {'room_id': '1773168053', 'temp': 19}, {'room_id': '2726462873', 'temp': 19}, {'room_id': '2957641162', 'temp': 19}, {'room_id': '3381423252', 'temp': 20}, {'room_id': '3714905920', 'temp': 19}, {'room_id': '4067357141', 'temp': 19}, {'room_id': '4244704920', 'temp': 19}], 'rooms': [{'id': '1315371675', 'therm_setpoint_temperature': 19.5}, {'id': '1773168053', 'therm_setpoint_temperature': 19}, {'id': '2726462873', 'therm_setpoint_temperature': 19}, {'id': '2957641162', 'therm_setpoint_temperature': 19}, {'id': '3381423252', 'therm_setpoint_temperature': 20}, {'id': '3714905920', 'therm_setpoint_temperature': 19}, {'id': '4067357141', 'therm_setpoint_temperature': 19}, {'id': '4244704920', 'therm_setpoint_temperature': 19}]}, {'name': 'Hygiena', 'id': 8, 'type': 4, 'rooms_temp': [{'room_id': '1315371675', 'temp': 19}, {'room_id': '1773168053', 'temp': 19.5}, {'room_id': '2726462873', 'temp': 20.5}, {'room_id': '2957641162', 'temp': 20.5}, {'room_id': '3381423252', 'temp': 20.5}, {'room_id': '3714905920', 'temp': 19.5}, {'room_id': '4067357141', 'temp': 26}, {'room_id': '4244704920', 'temp': 19}], 'rooms': [{'id': '1315371675', 'therm_setpoint_temperature': 19}, {'id': '1773168053', 'therm_setpoint_temperature': 19.5}, {'id': '2726462873', 'therm_setpoint_temperature': 20.5}, {'id': '2957641162', 'therm_setpoint_temperature': 20.5}, {'id': '3381423252', 'therm_setpoint_temperature': 20.5}, {'id': '3714905920', 'therm_setpoint_temperature': 19.5}, {'id': '4067357141', 'therm_setpoint_temperature': 26}, {'id': '4244704920', 'therm_setpoint_temperature': 19}]}], 'name': 'Pokus', 'default': False, 'away_temp': 12, 'hg_temp': 7, 'id': '602c1366fedf8119123e5950', 'type': 'therm'}, {'timetable': [{'zone_id': 1, 'm_offset': 0}, {'zone_id': 3, 'm_offset': 420}, {'zone_id': 0, 'm_offset': 450}, {'zone_id': 3, 'm_offset': 1290}, {'zone_id': 1, 'm_offset': 1320}, {'zone_id': 3, 'm_offset': 1860}, {'zone_id': 0, 'm_offset': 1890}, {'zone_id': 3, 'm_offset': 2730}, {'zone_id': 1, 'm_offset': 2760}, {'zone_id': 3, 'm_offset': 3300}, {'zone_id': 0, 'm_offset': 3330}, {'zone_id': 3, 'm_offset': 4170}, {'zone_id': 1, 'm_offset': 4200}, {'zone_id': 3, 'm_offset': 4740}, {'zone_id': 0, 'm_offset': 4770}, {'zone_id': 3, 'm_offset': 5610}, {'zone_id': 1, 'm_offset': 5640}, {'zone_id': 3, 'm_offset': 6180}, {'zone_id': 0, 'm_offset': 6210}, {'zone_id': 3, 'm_offset': 7050}, {'zone_id': 1, 'm_offset': 7080}, {'zone_id': 3, 'm_offset': 7620}, {'zone_id': 0, 'm_offset': 7650}, {'zone_id': 3, 'm_offset': 8490}, {'zone_id': 1, 'm_offset': 8520}, {'zone_id': 3, 'm_offset': 9060}, {'zone_id': 0, 'm_offset': 9090}, {'zone_id': 3, 'm_offset': 9930}, {'zone_id': 1, 'm_offset': 9960}], 'zones': [{'id': 0, 'type': 0, 'rooms_temp': [{'room_id': '1773168053', 'temp': 19}, {'room_id': '2957641162', 'temp': 17}, {'room_id': '4067357141', 'temp': 19}, {'room_id': '1315371675', 'temp': 19}, {'room_id': '2726462873', 'temp': 17}, {'room_id': '4244704920', 'temp': 19}, {'room_id': '3381423252', 'temp': 19}, {'room_id': '3714905920', 'temp': 19}], 'rooms': [{'id': '1773168053', 'therm_setpoint_temperature': 19}, {'id': '2957641162', 'therm_setpoint_temperature': 17}, {'id': '4067357141', 'therm_setpoint_temperature': 19}, {'id': '1315371675', 'therm_setpoint_temperature': 19}, {'id': '2726462873', 'therm_setpoint_temperature': 17}, {'id': '4244704920', 'therm_setpoint_temperature': 19}, {'id': '3381423252', 'therm_setpoint_temperature': 19}, {'id': '3714905920', 'therm_setpoint_temperature': 19}]}, {'id': 1, 'type': 1, 'rooms_temp': [{'room_id': '1773168053', 'temp': 16}, {'room_id': '2957641162', 'temp': 17}, {'room_id': '4067357141', 'temp': 16}, {'room_id': '1315371675', 'temp': 16}, {'room_id': '2726462873', 'temp': 17}, {'room_id': '4244704920', 'temp': 16}, {'room_id': '3381423252', 'temp': 16}, {'room_id': '3714905920', 'temp': 16}], 'rooms': [{'id': '1773168053', 'therm_setpoint_temperature': 16}, {'id': '2957641162', 'therm_setpoint_temperature': 17}, {'id': '4067357141', 'therm_setpoint_temperature': 16}, {'id': '1315371675', 'therm_setpoint_temperature': 16}, {'id': '2726462873', 'therm_setpoint_temperature': 17}, {'id': '4244704920', 'therm_setpoint_temperature': 16}, {'id': '3381423252', 'therm_setpoint_temperature': 16}, {'id': '3714905920', 'therm_setpoint_temperature': 16}]}, {'id': 3, 'type': 8, 'rooms_temp': [{'room_id': '1773168053', 'temp': 19}, {'room_id': '2957641162', 'temp': 17}, {'room_id': '4067357141', 'temp': 21}, {'room_id': '1315371675', 'temp': 19}, {'room_id': '2726462873', 'temp': 17}, {'room_id': '4244704920', 'temp': 21}, {'room_id': '3381423252', 'temp': 19}, {'room_id': '3714905920', 'temp': 19}], 'rooms': [{'id': '1773168053', 'therm_setpoint_temperature': 19}, {'id': '2957641162', 'therm_setpoint_temperature': 17}, {'id': '4067357141', 'therm_setpoint_temperature': 21}, {'id': '1315371675', 'therm_setpoint_temperature': 19}, {'id': '2726462873', 'therm_setpoint_temperature': 17}, {'id': '4244704920', 'therm_setpoint_temperature': 21}, {'id': '3381423252', 'therm_setpoint_temperature': 19}, {'id': '3714905920', 'therm_setpoint_temperature': 19}]}, {'id': 4, 'type': 5, 'rooms_temp': [{'room_id': '1773168053', 'temp': 16}, {'room_id': '2957641162', 'temp': 16}, {'room_id': '4067357141', 'temp': 16}, {'room_id': '1315371675', 'temp': 16}, {'room_id': '2726462873', 'temp': 16}, {'room_id': '4244704920', 'temp': 16}, {'room_id': '3381423252', 'temp': 16}, {'room_id': '3714905920', 'temp': 16}], 'rooms': [{'id': '1773168053', 'therm_setpoint_temperature': 16}, {'id': '2957641162', 'therm_setpoint_temperature': 16}, {'id': '4067357141', 'therm_setpoint_temperature': 16}, {'id': '1315371675', 'therm_setpoint_temperature': 16}, {'id': '2726462873', 'therm_setpoint_temperature': 16}, {'id': '4244704920', 'therm_setpoint_temperature': 16}, {'id': '3381423252', 'therm_setpoint_temperature': 16}, {'id': '3714905920', 'therm_setpoint_temperature': 16}]}], 'name': 'Pokus jar', 'default': False, 'away_temp': 12, 'hg_temp': 7, 'id': '6072cb0b1ab5c26b805188de', 'type': 'therm'}, {'timetable': [{'zone_id': 5, 'm_offset': 0}, {'zone_id': 6, 'm_offset': 420}, {'zone_id': 2, 'm_offset': 450}, {'zone_id': 6, 'm_offset': 1290}, {'zone_id': 5, 'm_offset': 1320}, {'zone_id': 6, 'm_offset': 1860}, {'zone_id': 2, 'm_offset': 1890}, {'zone_id': 6, 'm_offset': 2730}, {'zone_id': 5, 'm_offset': 2760}, {'zone_id': 6, 'm_offset': 3300}, {'zone_id': 2, 'm_offset': 3330}, {'zone_id': 6, 'm_offset': 4170}, {'zone_id': 5, 'm_offset': 4200}, {'zone_id': 6, 'm_offset': 4740}, {'zone_id': 2, 'm_offset': 4770}, {'zone_id': 6, 'm_offset': 5610}, {'zone_id': 5, 'm_offset': 5640}, {'zone_id': 6, 'm_offset': 6180}, {'zone_id': 2, 'm_offset': 6210}, {'zone_id': 6, 'm_offset': 7050}, {'zone_id': 5, 'm_offset': 7080}, {'zone_id': 6, 'm_offset': 7620}, {'zone_id': 2, 'm_offset': 7650}, {'zone_id': 6, 'm_offset': 8490}, {'zone_id': 5, 'm_offset': 8520}, {'zone_id': 6, 'm_offset': 9060}, {'zone_id': 2, 'm_offset': 9090}, {'zone_id': 6, 'm_offset': 9930}, {'zone_id': 5, 'm_offset': 9960}], 'zones': [{'name': 'Komfort', 'id': 0, 'type': 0, 'rooms_temp': [{'room_id': '1773168053', 'temp': 19}, {'room_id': '2957641162', 'temp': 17}, {'room_id': '4067357141', 'temp': 19}, {'room_id': '1315371675', 'temp': 19}, {'room_id': '2726462873', 'temp': 17}, {'room_id': '4244704920', 'temp': 19}, {'room_id': '3381423252', 'temp': 19}, {'room_id': '3714905920', 'temp': 19}], 'rooms': [{'id': '1773168053', 'therm_setpoint_temperature': 19}, {'id': '2957641162', 'therm_setpoint_temperature': 17}, {'id': '4067357141', 'therm_setpoint_temperature': 19}, {'id': '1315371675', 'therm_setpoint_temperature': 19}, {'id': '2726462873', 'therm_setpoint_temperature': 17}, {'id': '4244704920', 'therm_setpoint_temperature': 19}, {'id': '3381423252', 'therm_setpoint_temperature': 19}, {'id': '3714905920', 'therm_setpoint_temperature': 19}]}, {'name': 'Noc', 'id': 1, 'type': 1, 'rooms_temp': [{'room_id': '1773168053', 'temp': 16}, {'room_id': '2957641162', 'temp': 17}, {'room_id': '4067357141', 'temp': 16}, {'room_id': '1315371675', 'temp': 16}, {'room_id': '2726462873', 'temp': 17}, {'room_id': '4244704920', 'temp': 16}, {'room_id': '3381423252', 'temp': 16}, {'room_id': '3714905920', 'temp': 16}], 'rooms': [{'id': '1773168053', 'therm_setpoint_temperature': 16}, {'id': '2957641162', 'therm_setpoint_temperature': 17}, {'id': '4067357141', 'therm_setpoint_temperature': 16}, {'id': '1315371675', 'therm_setpoint_temperature': 16}, {'id': '2726462873', 'therm_setpoint_temperature': 17}, {'id': '4244704920', 'therm_setpoint_temperature': 16}, {'id': '3381423252', 'therm_setpoint_temperature': 16}, {'id': '3714905920', 'therm_setpoint_temperature': 16}]}, {'name': 'Gabriel1', 'id': 2, 'type': 4, 'rooms_temp': [{'room_id': '1315371675', 'temp': 19}, {'room_id': '1773168053', 'temp': 18}, {'room_id': '2726462873', 'temp': 16}, {'room_id': '2957641162', 'temp': 16}, {'room_id': '3381423252', 'temp': 19}, {'room_id': '3714905920', 'temp': 19}, {'room_id': '4067357141', 'temp': 19}, {'room_id': '4244704920', 'temp': 18}], 'rooms': [{'id': '1315371675', 'therm_setpoint_temperature': 19}, {'id': '1773168053', 'therm_setpoint_temperature': 18}, {'id': '2726462873', 'therm_setpoint_temperature': 16}, {'id': '2957641162', 'therm_setpoint_temperature': 16}, {'id': '3381423252', 'therm_setpoint_temperature': 19}, {'id': '3714905920', 'therm_setpoint_temperature': 19}, {'id': '4067357141', 'therm_setpoint_temperature': 19}, {'id': '4244704920', 'therm_setpoint_temperature': 18}]}, {'name': 'Komfort+', 'id': 3, 'type': 8, 'rooms_temp': [{'room_id': '1773168053', 'temp': 19}, {'room_id': '2957641162', 'temp': 17}, {'room_id': '4067357141', 'temp': 21}, {'room_id': '1315371675', 'temp': 19}, {'room_id': '2726462873', 'temp': 17}, {'room_id': '4244704920', 'temp': 21}, {'room_id': '3381423252', 'temp': 19}, {'room_id': '3714905920', 'temp': 19}], 'rooms': [{'id': '1773168053', 'therm_setpoint_temperature': 19}, {'id': '2957641162', 'therm_setpoint_temperature': 17}, {'id': '4067357141', 'therm_setpoint_temperature': 21}, {'id': '1315371675', 'therm_setpoint_temperature': 19}, {'id': '2726462873', 'therm_setpoint_temperature': 17}, {'id': '4244704920', 'therm_setpoint_temperature': 21}, {'id': '3381423252', 'therm_setpoint_temperature': 19}, {'id': '3714905920', 'therm_setpoint_temperature': 19}]}, {'name': 'Eko', 'id': 4, 'type': 5, 'rooms_temp': [{'room_id': '1773168053', 'temp': 16}, {'room_id': '2957641162', 'temp': 16}, {'room_id': '4067357141', 'temp': 16}, {'room_id': '1315371675', 'temp': 16}, {'room_id': '2726462873', 'temp': 16}, {'room_id': '4244704920', 'temp': 16}, {'room_id': '3381423252', 'temp': 16}, {'room_id': '3714905920', 'temp': 16}], 'rooms': [{'id': '1773168053', 'therm_setpoint_temperature': 16}, {'id': '2957641162', 'therm_setpoint_temperature': 16}, {'id': '4067357141', 'therm_setpoint_temperature': 16}, {'id': '1315371675', 'therm_setpoint_temperature': 16}, {'id': '2726462873', 'therm_setpoint_temperature': 16}, {'id': '4244704920', 'therm_setpoint_temperature': 16}, {'id': '3381423252', 'therm_setpoint_temperature': 16}, {'id': '3714905920', 'therm_setpoint_temperature': 16}]}, {'name': 'Gabriel2', 'id': 5, 'type': 4, 'rooms_temp': [{'room_id': '1315371675', 'temp': 16}, {'room_id': '1773168053', 'temp': 16}, {'room_id': '2726462873', 'temp': 16}, {'room_id': '2957641162', 'temp': 16}, {'room_id': '3381423252', 'temp': 17}, {'room_id': '3714905920', 'temp': 16}, {'room_id': '4067357141', 'temp': 17}, {'room_id': '4244704920', 'temp': 16.5}], 'rooms': [{'id': '1315371675', 'therm_setpoint_temperature': 16}, {'id': '1773168053', 'therm_setpoint_temperature': 16}, {'id': '2726462873', 'therm_setpoint_temperature': 16}, {'id': '2957641162', 'therm_setpoint_temperature': 16}, {'id': '3381423252', 'therm_setpoint_temperature': 17}, {'id': '3714905920', 'therm_setpoint_temperature': 16}, {'id': '4067357141', 'therm_setpoint_temperature': 17}, {'id': '4244704920', 'therm_setpoint_temperature': 16.5}]}, {'name': 'Gabriel3', 'id': 6, 'type': 4, 'rooms_temp': [{'room_id': '1315371675', 'temp': 19}, {'room_id': '1773168053', 'temp': 17}, {'room_id': '2726462873', 'temp': 16}, {'room_id': '2957641162', 'temp': 16}, {'room_id': '3381423252', 'temp': 19}, {'room_id': '3714905920', 'temp': 19}, {'room_id': '4067357141', 'temp': 21}, {'room_id': '4244704920', 'temp': 18}], 'rooms': [{'id': '1315371675', 'therm_setpoint_temperature': 19}, {'id': '1773168053', 'therm_setpoint_temperature': 17}, {'id': '2726462873', 'therm_setpoint_temperature': 16}, {'id': '2957641162', 'therm_setpoint_temperature': 16}, {'id': '3381423252', 'therm_setpoint_temperature': 19}, {'id': '3714905920', 'therm_setpoint_temperature': 19}, {'id': '4067357141', 'therm_setpoint_temperature': 21}, {'id': '4244704920', 'therm_setpoint_temperature': 18}]}], 'name': 'Gabriel', 'default': False, 'away_temp': 12, 'hg_temp': 7, 'id': '619d69c00dd93c5d0d6bdf64', 'type': 'therm'}, {'timetable': [{'zone_id': 1, 'm_offset': 0}, {'zone_id': 0, 'm_offset': 330}, {'zone_id': 4, 'm_offset': 420}, {'zone_id': 0, 'm_offset': 1170}, {'zone_id': 1, 'm_offset': 1320}, {'zone_id': 0, 'm_offset': 1770}, {'zone_id': 4, 'm_offset': 1860}, {'zone_id': 0, 'm_offset': 2610}, {'zone_id': 1, 'm_offset': 2760}, {'zone_id': 0, 'm_offset': 3210}, {'zone_id': 4, 'm_offset': 3300}, {'zone_id': 0, 'm_offset': 4050}, {'zone_id': 1, 'm_offset': 4200}, {'zone_id': 0, 'm_offset': 4650}, {'zone_id': 4, 'm_offset': 4740}, {'zone_id': 0, 'm_offset': 5490}, {'zone_id': 1, 'm_offset': 5640}, {'zone_id': 0, 'm_offset': 6090}, {'zone_id': 4, 'm_offset': 6180}, {'zone_id': 0, 'm_offset': 6930}, {'zone_id': 1, 'm_offset': 7080}, {'zone_id': 0, 'm_offset': 7530}, {'zone_id': 1, 'm_offset': 8520}, {'zone_id': 0, 'm_offset': 8970}, {'zone_id': 1, 'm_offset': 9960}], 'zones': [{'name': 'Comfort', 'id': 0, 'type': 0, 'rooms_temp': [{'room_id': '1773168053', 'temp': 19.5}, {'room_id': '2957641162', 'temp': 19.5}, {'room_id': '4067357141', 'temp': 19.5}, {'room_id': '1315371675', 'temp': 19.5}, {'room_id': '2726462873', 'temp': 19.5}, {'room_id': '4244704920', 'temp': 19.5}, {'room_id': '3381423252', 'temp': 19.5}, {'room_id': '3714905920', 'temp': 19.5}], 'modules': [], 'rooms': [{'id': '1773168053', 'therm_setpoint_temperature': 19.5}, {'id': '2957641162', 'therm_setpoint_temperature': 19.5}, {'id': '4067357141', 'therm_setpoint_temperature': 19.5}, {'id': '1315371675', 'therm_setpoint_temperature': 19.5}, {'id': '2726462873', 'therm_setpoint_temperature': 19.5}, {'id': '4244704920', 'therm_setpoint_temperature': 19.5}, {'id': '3381423252', 'therm_setpoint_temperature': 19.5}, {'id': '3714905920', 'therm_setpoint_temperature': 19.5}]}, {'name': 'Night', 'id': 1, 'type': 1, 'rooms_temp': [{'room_id': '1773168053', 'temp': 17.5}, {'room_id': '2957641162', 'temp': 17.5}, {'room_id': '4067357141', 'temp': 16.5}, {'room_id': '1315371675', 'temp': 16.5}, {'room_id': '2726462873', 'temp': 17.5}, {'room_id': '4244704920', 'temp': 16.5}, {'room_id': '3381423252', 'temp': 16.5}, {'room_id': '3714905920', 'temp': 16.5}], 'modules': [], 'rooms': [{'id': '1773168053', 'therm_setpoint_temperature': 17.5}, {'id': '2957641162', 'therm_setpoint_temperature': 17.5}, {'id': '4067357141', 'therm_setpoint_temperature': 16.5}, {'id': '1315371675', 'therm_setpoint_temperature': 16.5}, {'id': '2726462873', 'therm_setpoint_temperature': 17.5}, {'id': '4244704920', 'therm_setpoint_temperature': 16.5}, {'id': '3381423252', 'therm_setpoint_temperature': 16.5}, {'id': '3714905920', 'therm_setpoint_temperature': 16.5}]}, {'name': 'Comfort+', 'id': 3, 'type': 8, 'rooms_temp': [{'room_id': '1773168053', 'temp': 19.5}, {'room_id': '2957641162', 'temp': 17.5}, {'room_id': '4067357141', 'temp': 21.5}, {'room_id': '1315371675', 'temp': 19.5}, {'room_id': '2726462873', 'temp': 17.5}, {'room_id': '4244704920', 'temp': 21.5}, {'room_id': '3381423252', 'temp': 19.5}, {'room_id': '3714905920', 'temp': 19.5}], 'modules': [], 'rooms': [{'id': '1773168053', 'therm_setpoint_temperature': 19.5}, {'id': '2957641162', 'therm_setpoint_temperature': 17.5}, {'id': '4067357141', 'therm_setpoint_temperature': 21.5}, {'id': '1315371675', 'therm_setpoint_temperature': 19.5}, {'id': '2726462873', 'therm_setpoint_temperature': 17.5}, {'id': '4244704920', 'therm_setpoint_temperature': 21.5}, {'id': '3381423252', 'therm_setpoint_temperature': 19.5}, {'id': '3714905920', 'therm_setpoint_temperature': 19.5}]}, {'name': 'Eco', 'id': 4, 'type': 5, 'rooms_temp': [{'room_id': '1773168053', 'temp': 16}, {'room_id': '2957641162', 'temp': 16}, {'room_id': '4067357141', 'temp': 16}, {'room_id': '1315371675', 'temp': 16}, {'room_id': '2726462873', 'temp': 16}, {'room_id': '4244704920', 'temp': 16}, {'room_id': '3381423252', 'temp': 16}, {'room_id': '3714905920', 'temp': 16}], 'modules': [], 'rooms': [{'id': '1773168053', 'therm_setpoint_temperature': 16}, {'id': '2957641162', 'therm_setpoint_temperature': 16}, {'id': '4067357141', 'therm_setpoint_temperature': 16}, {'id': '1315371675', 'therm_setpoint_temperature': 16}, {'id': '2726462873', 'therm_setpoint_temperature': 16}, {'id': '4244704920', 'therm_setpoint_temperature': 16}, {'id': '3381423252', 'therm_setpoint_temperature': 16}, {'id': '3714905920', 'therm_setpoint_temperature': 16}]}], 'name': 'Vlado', 'default': False, 'away_temp': 12, 'hg_temp': 7, 'id': '6331281c4870dd1f470b49cb', 'type': 'therm'}]}], 'user': {'email': 'vlado@eavf.eu', 'language': 'sk-SK', 'locale': 'fr-FR', 'feel_like_algorithm': 0, 'unit_pressure': 0, 'unit_system': 0, 'unit_wind': 0, 'id': '58aed8644deddbca2c8b4763'}}, 'status': 'ok', 'time_exec': 0.02699112892150879, 'time_server': 1670101008}\n",
      "<Response [200]>\n",
      "True\n"
     ]
    },
    {
     "data": {
      "text/plain": [
       "True"
      ]
     },
     "execution_count": 11,
     "metadata": {},
     "output_type": "execute_result"
    }
   ],
   "source": [
    "info(client.access_token)"
   ]
  },
  {
   "cell_type": "code",
   "execution_count": null,
   "id": "c737394a",
   "metadata": {},
   "outputs": [],
   "source": []
  },
  {
   "cell_type": "code",
   "execution_count": null,
   "id": "02fa459e",
   "metadata": {},
   "outputs": [],
   "source": []
  },
  {
   "cell_type": "code",
   "execution_count": 12,
   "id": "f995e921",
   "metadata": {},
   "outputs": [],
   "source": [
    "class Home_Energy_Data(object):\n",
    "    raw_homes = []                  # údaje o všetkých doomoch\n",
    "    rawData = {}                    # údaje o vybranom dome\n",
    "    \n",
    "    def __init__(self, authData, home=None):\n",
    "\n",
    "        self.getAuthToken = authData.access_token\n",
    "        print(\"Token: \", self.getAuthToken)\n",
    "        token_headers = {\n",
    "            \"accept\": \"application/json\",\n",
    "            \"Authorization\": f\"Bearer {self.getAuthToken}\"\n",
    "        }\n",
    "        \n",
    "        try:\n",
    "            #print (\"URL: \", _GETHOMEDATA_REQ)\n",
    "            resp = requests.get(_GETHOMEDATA_REQ, headers = token_headers)\n",
    "            if resp.status_code not in range(199, 300):\n",
    "                print(\"Not in range: \", resp.status_code) #resp.json(),\n",
    "                raise Exception\n",
    "        except Exception as err:\n",
    "            print(\"code=%s, reason=%s\" % (err.code, err.reason))\n",
    "            return None\n",
    "        \n",
    "        # JSON objekt, v ktorom sú údaje o dome\n",
    "        # get/homestatus\n",
    "        odpoved = resp.json()\n",
    "        \n",
    "        # Načitanie json do suboru pre kontrolu\n",
    "        #jsonString = json.dumps(odpoved)\n",
    "        #jsonFile = open(\"data.json\", \"w\")\n",
    "        #jsonFile.write(jsonString)\n",
    "        #jsonFile.close()\n",
    "        \n",
    "        \n",
    "        # obsahuje základné informácie o dome a štruktúre zariadení a tiež o užívateľovi, status a ...\n",
    "        # načítanie zoznamu domov = list of sets and lists\n",
    "        raw_homes = dict(enumerate(odpoved.get('body', {}).get('homes')))\n",
    "        \n",
    "        #print (raw_homes)\n",
    "        \n",
    "        # Načítanie zoznamu domov do dict rawData\n",
    "        self.rawData = raw_homes\n",
    "        \n",
    "        if not self.rawData :\n",
    "            print(\"Nie je žiaden dom\")\n",
    "            return\n",
    "        \n",
    "        # Načítanie vybratéhoo domu do dict: self.homeData\n",
    "        #print(type(raw_homes))\n",
    "        self.homeData = self.filter_home_data(self.rawData, \"59d3da1c7a7570a21d8c1575\")\n",
    "        \n",
    "        if not self.homeData: \n",
    "            print(\"No home %s found\" % home)\n",
    "            return\n",
    "        \n",
    "        # Selecting thermostates\n",
    "        try: \n",
    "            #print(\"Meno domu\", self.homeData['name'])\n",
    "            m = {}\n",
    "            m = dict(enumerate(self.homeData.get('modules', {})))\n",
    "            self.defaultThermostat = m[1]\n",
    "            #self.defaultThermostatId = self.homeData['id']\n",
    "            #self.defaultModule = self.homeData['modules'][0]\n",
    "        except Exception as e:\n",
    "            #print(\"Status Code\", resp.status_code)     #resp.json(), \n",
    "            print(\"Error 3: \", e)\n",
    "        \n",
    "        return\n",
    "\n",
    "    def moduleNamesList(self, home=None, type=None):\n",
    "        if not home:\n",
    "            home = self.homeData\n",
    "        \n",
    "        my_lst = list()\n",
    "        if my_lst is not None:\n",
    "            print('variable is NOT None')\n",
    "            #my_list.append('hello')\n",
    "        else:\n",
    "            print('variable is None')\n",
    "            \n",
    "        print (\"list je: \", my_lst)\n",
    "        \n",
    "        for m in home['modules']:\n",
    "            if not type:\n",
    "                my_lst.append(m['name'])\n",
    "            else:\n",
    "                if home['type'] == type:\n",
    "                    my_lst.append(m['name'])\n",
    "        print (\"Zoznam modulov: \", my_lst)\n",
    "        return my_lst\n",
    "    \n",
    "    def filter_home_data(self, Domy, home=None):\n",
    "        # Find a home who's home id or name is the one requested\n",
    "        for h in Domy:\n",
    "            if Domy[h][\"name\"] == home or Domy[h][\"id\"] == home:\n",
    "                #print (\"filter_home_data: vychádzam z druhej slučky\", rawData[h][\"name\"])\n",
    "                return Domy[h]\n",
    "        return None\n",
    "\n",
    "    def toStr(self, thermName=None, home=None):\n",
    "        res = [m['module_name'] for m in self.modules.values()]\n",
    "        res.append(self.stationByName(station)['module_name'])\n",
    "        return res\n",
    "    \n",
    "    def getThermostat(self, name=None, tid=None):\n",
    "        if ['name'] != name: return None\n",
    "        else: return \n",
    "        return self.thermostat[self.defaultThermostatId]\n",
    "\n",
    "\n",
    "    def getModuleByName(self, name, thermostatId=None):\n",
    "        thermostat = self.getThermostat(tid=thermostatId)\n",
    "        for m in thermostat['modules']:\n",
    "            if m['name'] == name: return m\n",
    "        return None\n",
    "    \n",
    "    def valveByName(self, valve=None):\n",
    "        if not valve : valve = self.defaultThermostatId\n",
    "        for i,s in self.stations.items():\n",
    "            if s['station_name'] == station :\n",
    "                return self.stations[i]\n",
    "        return None\n",
    "\n",
    "    def postRequest(self, hdrs=None):\n",
    "        try:\n",
    "            #print (\"URL: \", _GETHOMEDATA_REQ)\n",
    "            resp = requests.get(_GETHOMEDATA_REQ, headers = hdrs)\n",
    "            if resp.status_code not in range(199, 300):\n",
    "                print(\"Not in range: \", resp.status_code) #resp.json(),\n",
    "                raise Exception\n",
    "        except Exception as err:\n",
    "            print(\"code=%s, reason=%s\" % (err.code, err.reason))\n",
    "            return None\n",
    "        \n",
    "        return resp.json()\n",
    "\n",
    "\n",
    "\n",
    "\n",
    "    # Meteo\n",
    "    def modulesNamesList(self, thermName=None, home=None):\n",
    "        res = [m['module_name'] for m in self.modules.values()]\n",
    "        res.append(self.stationByName(station)['module_name'])\n",
    "        return res\n",
    "\n",
    "\n",
    "\n",
    "    def stationById(self, sid):\n",
    "        return self.stations.get(sid)\n",
    "\n",
    "    def moduleByName(self, module):\n",
    "        for m in self.modules:\n",
    "            mod = self.modules[m]\n",
    "            if mod['module_name'] == module :\n",
    "                return mod\n",
    "        return None\n",
    "\n",
    "    def moduleById(self, mid):\n",
    "        return self.modules.get(mid)"
   ]
  },
  {
   "cell_type": "code",
   "execution_count": 13,
   "id": "78aec382",
   "metadata": {},
   "outputs": [
    {
     "name": "stdout",
     "output_type": "stream",
     "text": [
      "Token:  58aed8644deddbca2c8b4763|d69db65b2e7a77c8e2ec1199ab59d6ab\n"
     ]
    }
   ],
   "source": [
    "therm = Home_Energy_Data(client)"
   ]
  },
  {
   "cell_type": "code",
   "execution_count": 14,
   "id": "78f6d5d8",
   "metadata": {},
   "outputs": [
    {
     "name": "stdout",
     "output_type": "stream",
     "text": [
      "variable is NOT None\n",
      "list je:  []\n",
      "Zoznam modulov:  ['WiFi modul', 'Termostat', 'Ventil Isabelle a Alice', 'Ventil Sejour', 'Ventil Kúpeľňa 1', 'Ventil vstupná hala', 'Ventil Spálňa', 'Ventil Toaleta poschodie', 'Ventil Kuchyňa', 'Ventil chodba hore']\n",
      "['WiFi modul', 'Termostat', 'Ventil Isabelle a Alice', 'Ventil Sejour', 'Ventil Kúpeľňa 1', 'Ventil vstupná hala', 'Ventil Spálňa', 'Ventil Toaleta poschodie', 'Ventil Kuchyňa', 'Ventil chodba hore']\n"
     ]
    }
   ],
   "source": [
    "print (therm.moduleNamesList())"
   ]
  },
  {
   "cell_type": "code",
   "execution_count": null,
   "id": "be609905",
   "metadata": {},
   "outputs": [],
   "source": []
  },
  {
   "cell_type": "code",
   "execution_count": null,
   "id": "ec9ccefc",
   "metadata": {},
   "outputs": [],
   "source": []
  },
  {
   "cell_type": "code",
   "execution_count": null,
   "id": "fbdb6964",
   "metadata": {},
   "outputs": [],
   "source": []
  },
  {
   "cell_type": "code",
   "execution_count": null,
   "id": "f95d6975",
   "metadata": {},
   "outputs": [],
   "source": []
  },
  {
   "cell_type": "code",
   "execution_count": null,
   "id": "09180c72",
   "metadata": {},
   "outputs": [],
   "source": []
  }
 ],
 "metadata": {
  "kernelspec": {
   "display_name": "Python 3 (ipykernel)",
   "language": "python",
   "name": "python3"
  },
  "language_info": {
   "codemirror_mode": {
    "name": "ipython",
    "version": 3
   },
   "file_extension": ".py",
   "mimetype": "text/x-python",
   "name": "python",
   "nbconvert_exporter": "python",
   "pygments_lexer": "ipython3",
   "version": "3.10.7"
  }
 },
 "nbformat": 4,
 "nbformat_minor": 5
}
